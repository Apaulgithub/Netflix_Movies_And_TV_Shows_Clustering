{
  "nbformat": 4,
  "nbformat_minor": 0,
  "metadata": {
    "colab": {
      "provenance": [],
      "collapsed_sections": [
        "vncDsAP0Gaoa",
        "FJNUwmbgGyua",
        "w6K7xa23Elo4",
        "yQaldy8SH6Dl",
        "mDgbUHAGgjLW",
        "HhfV-JJviCcP",
        "nA9Y7ga8ng1Z",
        "dauF4eBmngu3",
        "GF8Ens_Soomf",
        "0wOQAZs5pc--",
        "KSlN3yHqYklG",
        "EM7whBJCYoAo",
        "4Of9eVA-YrdM",
        "bamQiAODYuh1",
        "QHF8YVU7Yuh3",
        "GwzvFGzlYuh3",
        "qYpmQ266Yuh3",
        "OH-pJp9IphqM",
        "bbFf2-_FphqN",
        "_ouA3fa0phqN",
        "Seke61FWphqN",
        "PIIx-8_IphqN",
        "t27r6nlMphqO",
        "r2jJGEOYphqO",
        "b0JNsNcRphqO",
        "BZR9WyysphqO",
        "jj7wYXLtphqO",
        "eZrbJ2SmphqO",
        "rFu4xreNphqO",
        "YJ55k-q6phqO",
        "gCFgpxoyphqP",
        "OVtJsKN_phqQ",
        "lssrdh5qphqQ",
        "U2RJ9gkRphqQ",
        "1M8mcRywphqQ",
        "tgIPom80phqQ",
        "JMzcOPDDphqR",
        "x-EpHcCOp1ci",
        "X_VqEhTip1ck",
        "8zGJKyg5p1ck",
        "PVzmfK_Ep1ck",
        "n3dbpmDWp1ck",
        "ylSl6qgtp1ck",
        "ZWILFDl5p1ck",
        "M7G43BXep1ck",
        "Ag9LCva-p1cl",
        "E6MkPsBcp1cl",
        "2cELzS2fp1cl",
        "3MPXvC8up1cl",
        "NC_X3p0fY2L0",
        "UV0SzAkaZNRQ",
        "YPEH6qLeZNRQ",
        "q29F0dvdveiT",
        "EXh0U9oCveiU",
        "22aHeOlLveiV",
        "g-ATYxFrGrvw",
        "Yfr_Vlr8HBkt",
        "8yEUt7NnHlrM",
        "tEA2Xm5dHt1r",
        "I79__PHVH19G",
        "Ou-I18pAyIpj",
        "fF3858GYyt-u",
        "4_0_7-oCpUZd",
        "hwyV_J3ipUZe",
        "3yB-zSqbpUZe",
        "dEUvejAfpUZe",
        "Fd15vwWVpUZf",
        "bn_IUdTipZyH",
        "49K5P_iCpZyH",
        "Nff-vKELpZyI",
        "kLW572S8pZyI",
        "dWbDXHzopZyI",
        "yLjJCtPM0KBk",
        "xiyOF9F70UgQ",
        "7wuGOrhz0itI",
        "id1riN9m0vUs",
        "578E2V7j08f6",
        "89xtkJwZ18nB",
        "67NQN5KX2AMe",
        "Iwf50b-R2tYG",
        "GMQiZwjn3iu7",
        "WVIkgGqN3qsr",
        "XkPnILGE3zoT",
        "Hlsf0x5436Go",
        "mT9DMSJo4nBL",
        "c49ITxTc407N",
        "OeJFEK0N496M",
        "9ExmJH0g5HBk",
        "cJNqERVU536h",
        "k5UmGsbsOxih",
        "T0VqWOYE6DLQ",
        "qBMux9mC6MCf",
        "-oLEiFgy-5Pf",
        "C74aWNz2AliB",
        "2DejudWSA-a0",
        "pEMng2IbBLp7",
        "rAdphbQ9Bhjc",
        "TNVZ9zx19K6k",
        "nqoHp30x9hH9",
        "rMDnDkt2B6du",
        "yiiVWRdJDDil",
        "1UUpS68QDMuG",
        "kexQrXU-DjzY",
        "T5CmagL3EC8N",
        "BhH2vgX9EjGr",
        "qjKvONjwE8ra",
        "P1XJ9OREExlT",
        "VFOzZv6IFROw",
        "TIqpNgepFxVj",
        "VfCC591jGiD4",
        "OB4l2ZhMeS1U",
        "ArJBuiUVfxKd",
        "4qY1EAkEfxKe",
        "PiV4Ypx8fxKe",
        "TfvqoZmBfxKf",
        "dJ2tPlVmpsJ0",
        "JWYfwnehpsJ1",
        "-jK_YjpMpsJ2",
        "HAih1iBOpsJ2",
        "zVGeBEFhpsJ2",
        "bmKjuQ-FpsJ3",
        "Fze-IPXLpx6K",
        "7AN1z2sKpx6M",
        "9PIHJqyupx6M",
        "_-qAgymDpx6N",
        "Z-hykwinpx6N",
        "h_CCil-SKHpo",
        "cBFFvTBNJzUa",
        "HvGl1hHyA_VK",
        "EyNgTHvd2WFk",
        "KH5McJBi2d8v",
        "iW_Lq9qf2h6X",
        "-Kee-DAl2viO",
        "gCX9965dhzqZ",
        "gIfDvo9L0UH2"
      ],
      "include_colab_link": true
    },
    "kernelspec": {
      "name": "python3",
      "display_name": "Python 3"
    },
    "language_info": {
      "name": "python"
    }
  },
  "cells": [
    {
      "cell_type": "markdown",
      "metadata": {
        "id": "view-in-github",
        "colab_type": "text"
      },
      "source": [
        "<a href=\"https://colab.research.google.com/github/Apaulgithub/Netflix_Movies_And_TV_Shows_Clustering/blob/main/Netflix_Movies_And_TV_Shows_Clustering_(Unsupervised_ML).ipynb\" target=\"_parent\"><img src=\"https://colab.research.google.com/assets/colab-badge.svg\" alt=\"Open In Colab\"/></a>"
      ]
    },
    {
      "cell_type": "markdown",
      "source": [
        "# **Project Name**    - Netflix Movies and TV Shows Clustering\n",
        "\n"
      ],
      "metadata": {
        "id": "vncDsAP0Gaoa"
      }
    },
    {
      "cell_type": "markdown",
      "source": [
        "##### **Project Type**    - Unsupervised\n",
        "##### **Contribution**    - Individual\n",
        "##### **Member Name -** Arindam Paul"
      ],
      "metadata": {
        "id": "beRrZCGUAJYm"
      }
    },
    {
      "cell_type": "markdown",
      "source": [
        "# **Project Summary -**"
      ],
      "metadata": {
        "id": "FJNUwmbgGyua"
      }
    },
    {
      "cell_type": "markdown",
      "source": [
        "This dataset consists of tv shows and movies available on Netflix as of 2019. The dataset is collected from Flixable which is a third-party Netflix search engine.\n",
        "\n",
        "In 2018, they released an interesting report which shows that the number of TV shows on Netflix has nearly tripled since 2010. The streaming service’s number of movies has decreased by more than 2,000 titles since 2010, while its number of TV shows has nearly tripled. It will be interesting to explore what all other insights can be obtained from the same dataset.\n",
        "\n",
        "Initially i have start with understanding the dataset, then i clean the data to make analysis ready.\n",
        "\n",
        "Explore the data and understand the behaviour of the same.\n",
        "\n",
        "Then i have prepare the dataset for creating clusters by various parameters wherein i can remove stop words, white spaces numbers etc. so that i can get important words and based on that i shall form clusters.\n",
        "\n",
        "Later i have used the silhouette method and k-means elbow method to find optimal number of clusters and built recommender system by cosine similarity and recommended top 5 movies."
      ],
      "metadata": {
        "id": "F6v_1wHtG2nS"
      }
    },
    {
      "cell_type": "markdown",
      "source": [
        "# **GitHub Link -**"
      ],
      "metadata": {
        "id": "w6K7xa23Elo4"
      }
    },
    {
      "cell_type": "markdown",
      "source": [
        "https://github.com/Apaulgithub/Netflix_Movies_And_TV_Shows_Clustering"
      ],
      "metadata": {
        "id": "h1o69JH3Eqqn"
      }
    },
    {
      "cell_type": "markdown",
      "source": [
        "# **Problem Statement**\n"
      ],
      "metadata": {
        "id": "yQaldy8SH6Dl"
      }
    },
    {
      "cell_type": "markdown",
      "source": [
        "This dataset consists of tv shows and movies available on Netflix as of 2019. The dataset is collected from Flixable which is a third-party Netflix search engine.\n",
        "\n",
        "In 2018, they released an interesting report which shows that the number of TV shows on Netflix has nearly tripled since 2010. The streaming service’s number of movies has decreased by more than 2,000 titles since 2010, while its number of TV shows has nearly tripled. It will be interesting to explore what all other insights can be obtained from the same dataset."
      ],
      "metadata": {
        "id": "DpeJGUA3kjGy"
      }
    },
    {
      "cell_type": "markdown",
      "source": [
        "# **General Guidelines** : -  "
      ],
      "metadata": {
        "id": "mDgbUHAGgjLW"
      }
    },
    {
      "cell_type": "markdown",
      "source": [
        "1.   Well-structured, formatted, and commented code is required.\n",
        "2.   Exception Handling, Production Grade Code & Deployment Ready Code will be a plus. Those students will be awarded some additional credits.\n",
        "     \n",
        "     The additional credits will have advantages over other students during Star Student selection.\n",
        "       \n",
        "             [ Note: - Deployment Ready Code is defined as, the whole .ipynb notebook should be executable in one go\n",
        "                       without a single error logged. ]\n",
        "\n",
        "3.   Each and every logic should have proper comments.\n",
        "4. You may add as many number of charts you want. Make Sure for each and every chart the following format should be answered.\n",
        "        \n",
        "\n",
        "```\n",
        "# Chart visualization code\n",
        "```\n",
        "            \n",
        "\n",
        "*   Why did you pick the specific chart?\n",
        "*   What is/are the insight(s) found from the chart?\n",
        "* Will the gained insights help creating a positive business impact?\n",
        "Are there any insights that lead to negative growth? Justify with specific reason.\n",
        "\n",
        "5. You have to create at least 15 logical & meaningful charts having important insights.\n",
        "\n",
        "\n",
        "[ Hints : - Do the Vizualization in  a structured way while following \"UBM\" Rule.\n",
        "\n",
        "U - Univariate Analysis,\n",
        "\n",
        "B - Bivariate Analysis (Numerical - Categorical, Numerical - Numerical, Categorical - Categorical)\n",
        "\n",
        "M - Multivariate Analysis\n",
        " ]\n",
        "\n",
        "\n",
        "\n",
        "\n",
        "\n",
        "6. You may add more ml algorithms for model creation. Make sure for each and every algorithm, the following format should be answered.\n",
        "\n",
        "\n",
        "*   Explain the ML Model used and it's performance using Evaluation metric Score Chart.\n",
        "\n",
        "\n",
        "*   Cross- Validation & Hyperparameter Tuning\n",
        "\n",
        "*   Have you seen any improvement? Note down the improvement with updates Evaluation metric Score Chart.\n",
        "\n",
        "*   Explain each evaluation metric's indication towards business and the business impact pf the ML model used.\n",
        "\n",
        "\n",
        "\n",
        "\n",
        "\n",
        "\n",
        "\n",
        "\n",
        "\n",
        "\n",
        "\n",
        "\n",
        "\n",
        "\n",
        "\n",
        "\n",
        "\n",
        "\n"
      ],
      "metadata": {
        "id": "ZrxVaUj-hHfC"
      }
    },
    {
      "cell_type": "markdown",
      "source": [
        "# ***Let's Begin !***"
      ],
      "metadata": {
        "id": "O_i_v8NEhb9l"
      }
    },
    {
      "cell_type": "markdown",
      "source": [
        "## ***1. Know Your Data***"
      ],
      "metadata": {
        "id": "HhfV-JJviCcP"
      }
    },
    {
      "cell_type": "markdown",
      "source": [
        "### Import Libraries"
      ],
      "metadata": {
        "id": "Y3lxredqlCYt"
      }
    },
    {
      "cell_type": "code",
      "source": [
        "# Import Libraries\n",
        "# Importing Numpy & Pandas for data processing & data wrangling\n",
        "import numpy as np\n",
        "import pandas as pd\n",
        "\n",
        "# Importing  tools for visualization\n",
        "import matplotlib.pyplot as plt\n",
        "import seaborn as sns\n",
        "import missingno as msno\n",
        "\n",
        "# Importing libraries for hypothesis testing\n",
        "from scipy.stats import uniform\n",
        "from scipy.stats import norm\n",
        "from scipy.stats import chi2\n",
        "from scipy.stats import t\n",
        "from scipy.stats import f\n",
        "from scipy.stats import ttest_ind\n",
        "import scipy.stats as stats\n",
        "\n",
        "# Word Cloud library\n",
        "from wordcloud import WordCloud, STOPWORDS\n",
        "\n",
        "# Library used for textual data preprocessing\n",
        "import string\n",
        "string.punctuation\n",
        "import nltk\n",
        "from nltk.corpus import stopwords\n",
        "nltk.download('stopwords')\n",
        "from nltk.stem.snowball import SnowballStemmer\n",
        "from scipy.stats import ttest_ind\n",
        "from sklearn.feature_extraction.text import CountVectorizer\n",
        "from sklearn.feature_extraction.text import TfidfVectorizer\n",
        "from sklearn.decomposition import PCA\n",
        "from statsmodels.stats.proportion import proportions_ztest\n",
        "\n",
        "# Library used for Clusters implementation\n",
        "from sklearn.cluster import KMeans\n",
        "from sklearn.metrics import silhouette_score\n",
        "from sklearn.cluster import AgglomerativeClustering\n",
        "import scipy.cluster.hierarchy as shc\n",
        "\n",
        "# Library used for building recommendation system\n",
        "from sklearn.feature_extraction.text import TfidfVectorizer\n",
        "from sklearn.metrics.pairwise import *\n",
        "\n",
        "\n",
        "import scipy.cluster.hierarchy as sch\n",
        "\n",
        "import warnings\n",
        "warnings.filterwarnings('ignore')\n",
        "%matplotlib inline\n",
        "\n",
        "import os\n",
        "if not os.path.exists(\"images\"):\n",
        "    os.mkdir(\"images\")"
      ],
      "metadata": {
        "id": "M8Vqi-pPk-HR",
        "colab": {
          "base_uri": "https://localhost:8080/"
        },
        "outputId": "2ccac74e-5865-43e8-f462-4df1729b94e3"
      },
      "execution_count": 137,
      "outputs": [
        {
          "output_type": "stream",
          "name": "stderr",
          "text": [
            "[nltk_data] Downloading package stopwords to /root/nltk_data...\n",
            "[nltk_data]   Package stopwords is already up-to-date!\n"
          ]
        }
      ]
    },
    {
      "cell_type": "markdown",
      "source": [
        "### Dataset Loading"
      ],
      "metadata": {
        "id": "3RnN4peoiCZX"
      }
    },
    {
      "cell_type": "code",
      "source": [
        "# Load Dataset from github repository\n",
        "df = pd.read_csv(\"https://raw.githubusercontent.com/Apaulgithub/Netflix_Movies_And_TV_Shows_Clustering/main/NETFLIX%20MOVIES%20AND%20TV%20SHOWS%20CLUSTERING.csv\")"
      ],
      "metadata": {
        "id": "4CkvbW_SlZ_R"
      },
      "execution_count": 138,
      "outputs": []
    },
    {
      "cell_type": "markdown",
      "source": [
        "### Dataset First View"
      ],
      "metadata": {
        "id": "x71ZqKXriCWQ"
      }
    },
    {
      "cell_type": "code",
      "source": [
        "# Dataset First Look\n",
        "# View top 5 rows of the dataset\n",
        "df.head()"
      ],
      "metadata": {
        "id": "LWNFOSvLl09H",
        "colab": {
          "base_uri": "https://localhost:8080/",
          "height": 0
        },
        "outputId": "bb741f2d-8821-4789-a2e2-eed2237b340c"
      },
      "execution_count": 139,
      "outputs": [
        {
          "output_type": "execute_result",
          "data": {
            "text/plain": [
              "  show_id     type  title           director  \\\n",
              "0      s1  TV Show     3%                NaN   \n",
              "1      s2    Movie   7:19  Jorge Michel Grau   \n",
              "2      s3    Movie  23:59       Gilbert Chan   \n",
              "3      s4    Movie      9        Shane Acker   \n",
              "4      s5    Movie     21     Robert Luketic   \n",
              "\n",
              "                                                cast        country  \\\n",
              "0  João Miguel, Bianca Comparato, Michel Gomes, R...         Brazil   \n",
              "1  Demián Bichir, Héctor Bonilla, Oscar Serrano, ...         Mexico   \n",
              "2  Tedd Chan, Stella Chung, Henley Hii, Lawrence ...      Singapore   \n",
              "3  Elijah Wood, John C. Reilly, Jennifer Connelly...  United States   \n",
              "4  Jim Sturgess, Kevin Spacey, Kate Bosworth, Aar...  United States   \n",
              "\n",
              "          date_added  release_year rating   duration  \\\n",
              "0    August 14, 2020          2020  TV-MA  4 Seasons   \n",
              "1  December 23, 2016          2016  TV-MA     93 min   \n",
              "2  December 20, 2018          2011      R     78 min   \n",
              "3  November 16, 2017          2009  PG-13     80 min   \n",
              "4    January 1, 2020          2008  PG-13    123 min   \n",
              "\n",
              "                                           listed_in  \\\n",
              "0  International TV Shows, TV Dramas, TV Sci-Fi &...   \n",
              "1                       Dramas, International Movies   \n",
              "2                Horror Movies, International Movies   \n",
              "3  Action & Adventure, Independent Movies, Sci-Fi...   \n",
              "4                                             Dramas   \n",
              "\n",
              "                                         description  \n",
              "0  In a future where the elite inhabit an island ...  \n",
              "1  After a devastating earthquake hits Mexico Cit...  \n",
              "2  When an army recruit is found dead, his fellow...  \n",
              "3  In a postapocalyptic world, rag-doll robots hi...  \n",
              "4  A brilliant group of students become card-coun...  "
            ],
            "text/html": [
              "\n",
              "\n",
              "  <div id=\"df-b06065f4-9409-47e6-a82f-71c9bfacc875\">\n",
              "    <div class=\"colab-df-container\">\n",
              "      <div>\n",
              "<style scoped>\n",
              "    .dataframe tbody tr th:only-of-type {\n",
              "        vertical-align: middle;\n",
              "    }\n",
              "\n",
              "    .dataframe tbody tr th {\n",
              "        vertical-align: top;\n",
              "    }\n",
              "\n",
              "    .dataframe thead th {\n",
              "        text-align: right;\n",
              "    }\n",
              "</style>\n",
              "<table border=\"1\" class=\"dataframe\">\n",
              "  <thead>\n",
              "    <tr style=\"text-align: right;\">\n",
              "      <th></th>\n",
              "      <th>show_id</th>\n",
              "      <th>type</th>\n",
              "      <th>title</th>\n",
              "      <th>director</th>\n",
              "      <th>cast</th>\n",
              "      <th>country</th>\n",
              "      <th>date_added</th>\n",
              "      <th>release_year</th>\n",
              "      <th>rating</th>\n",
              "      <th>duration</th>\n",
              "      <th>listed_in</th>\n",
              "      <th>description</th>\n",
              "    </tr>\n",
              "  </thead>\n",
              "  <tbody>\n",
              "    <tr>\n",
              "      <th>0</th>\n",
              "      <td>s1</td>\n",
              "      <td>TV Show</td>\n",
              "      <td>3%</td>\n",
              "      <td>NaN</td>\n",
              "      <td>João Miguel, Bianca Comparato, Michel Gomes, R...</td>\n",
              "      <td>Brazil</td>\n",
              "      <td>August 14, 2020</td>\n",
              "      <td>2020</td>\n",
              "      <td>TV-MA</td>\n",
              "      <td>4 Seasons</td>\n",
              "      <td>International TV Shows, TV Dramas, TV Sci-Fi &amp;...</td>\n",
              "      <td>In a future where the elite inhabit an island ...</td>\n",
              "    </tr>\n",
              "    <tr>\n",
              "      <th>1</th>\n",
              "      <td>s2</td>\n",
              "      <td>Movie</td>\n",
              "      <td>7:19</td>\n",
              "      <td>Jorge Michel Grau</td>\n",
              "      <td>Demián Bichir, Héctor Bonilla, Oscar Serrano, ...</td>\n",
              "      <td>Mexico</td>\n",
              "      <td>December 23, 2016</td>\n",
              "      <td>2016</td>\n",
              "      <td>TV-MA</td>\n",
              "      <td>93 min</td>\n",
              "      <td>Dramas, International Movies</td>\n",
              "      <td>After a devastating earthquake hits Mexico Cit...</td>\n",
              "    </tr>\n",
              "    <tr>\n",
              "      <th>2</th>\n",
              "      <td>s3</td>\n",
              "      <td>Movie</td>\n",
              "      <td>23:59</td>\n",
              "      <td>Gilbert Chan</td>\n",
              "      <td>Tedd Chan, Stella Chung, Henley Hii, Lawrence ...</td>\n",
              "      <td>Singapore</td>\n",
              "      <td>December 20, 2018</td>\n",
              "      <td>2011</td>\n",
              "      <td>R</td>\n",
              "      <td>78 min</td>\n",
              "      <td>Horror Movies, International Movies</td>\n",
              "      <td>When an army recruit is found dead, his fellow...</td>\n",
              "    </tr>\n",
              "    <tr>\n",
              "      <th>3</th>\n",
              "      <td>s4</td>\n",
              "      <td>Movie</td>\n",
              "      <td>9</td>\n",
              "      <td>Shane Acker</td>\n",
              "      <td>Elijah Wood, John C. Reilly, Jennifer Connelly...</td>\n",
              "      <td>United States</td>\n",
              "      <td>November 16, 2017</td>\n",
              "      <td>2009</td>\n",
              "      <td>PG-13</td>\n",
              "      <td>80 min</td>\n",
              "      <td>Action &amp; Adventure, Independent Movies, Sci-Fi...</td>\n",
              "      <td>In a postapocalyptic world, rag-doll robots hi...</td>\n",
              "    </tr>\n",
              "    <tr>\n",
              "      <th>4</th>\n",
              "      <td>s5</td>\n",
              "      <td>Movie</td>\n",
              "      <td>21</td>\n",
              "      <td>Robert Luketic</td>\n",
              "      <td>Jim Sturgess, Kevin Spacey, Kate Bosworth, Aar...</td>\n",
              "      <td>United States</td>\n",
              "      <td>January 1, 2020</td>\n",
              "      <td>2008</td>\n",
              "      <td>PG-13</td>\n",
              "      <td>123 min</td>\n",
              "      <td>Dramas</td>\n",
              "      <td>A brilliant group of students become card-coun...</td>\n",
              "    </tr>\n",
              "  </tbody>\n",
              "</table>\n",
              "</div>\n",
              "      <button class=\"colab-df-convert\" onclick=\"convertToInteractive('df-b06065f4-9409-47e6-a82f-71c9bfacc875')\"\n",
              "              title=\"Convert this dataframe to an interactive table.\"\n",
              "              style=\"display:none;\">\n",
              "\n",
              "  <svg xmlns=\"http://www.w3.org/2000/svg\" height=\"24px\"viewBox=\"0 0 24 24\"\n",
              "       width=\"24px\">\n",
              "    <path d=\"M0 0h24v24H0V0z\" fill=\"none\"/>\n",
              "    <path d=\"M18.56 5.44l.94 2.06.94-2.06 2.06-.94-2.06-.94-.94-2.06-.94 2.06-2.06.94zm-11 1L8.5 8.5l.94-2.06 2.06-.94-2.06-.94L8.5 2.5l-.94 2.06-2.06.94zm10 10l.94 2.06.94-2.06 2.06-.94-2.06-.94-.94-2.06-.94 2.06-2.06.94z\"/><path d=\"M17.41 7.96l-1.37-1.37c-.4-.4-.92-.59-1.43-.59-.52 0-1.04.2-1.43.59L10.3 9.45l-7.72 7.72c-.78.78-.78 2.05 0 2.83L4 21.41c.39.39.9.59 1.41.59.51 0 1.02-.2 1.41-.59l7.78-7.78 2.81-2.81c.8-.78.8-2.07 0-2.86zM5.41 20L4 18.59l7.72-7.72 1.47 1.35L5.41 20z\"/>\n",
              "  </svg>\n",
              "      </button>\n",
              "\n",
              "\n",
              "\n",
              "    <div id=\"df-b6879973-1a1d-437a-9ee4-3d0aa418ddf4\">\n",
              "      <button class=\"colab-df-quickchart\" onclick=\"quickchart('df-b6879973-1a1d-437a-9ee4-3d0aa418ddf4')\"\n",
              "              title=\"Suggest charts.\"\n",
              "              style=\"display:none;\">\n",
              "\n",
              "<svg xmlns=\"http://www.w3.org/2000/svg\" height=\"24px\"viewBox=\"0 0 24 24\"\n",
              "     width=\"24px\">\n",
              "    <g>\n",
              "        <path d=\"M19 3H5c-1.1 0-2 .9-2 2v14c0 1.1.9 2 2 2h14c1.1 0 2-.9 2-2V5c0-1.1-.9-2-2-2zM9 17H7v-7h2v7zm4 0h-2V7h2v10zm4 0h-2v-4h2v4z\"/>\n",
              "    </g>\n",
              "</svg>\n",
              "      </button>\n",
              "    </div>\n",
              "\n",
              "<style>\n",
              "  .colab-df-quickchart {\n",
              "    background-color: #E8F0FE;\n",
              "    border: none;\n",
              "    border-radius: 50%;\n",
              "    cursor: pointer;\n",
              "    display: none;\n",
              "    fill: #1967D2;\n",
              "    height: 32px;\n",
              "    padding: 0 0 0 0;\n",
              "    width: 32px;\n",
              "  }\n",
              "\n",
              "  .colab-df-quickchart:hover {\n",
              "    background-color: #E2EBFA;\n",
              "    box-shadow: 0px 1px 2px rgba(60, 64, 67, 0.3), 0px 1px 3px 1px rgba(60, 64, 67, 0.15);\n",
              "    fill: #174EA6;\n",
              "  }\n",
              "\n",
              "  [theme=dark] .colab-df-quickchart {\n",
              "    background-color: #3B4455;\n",
              "    fill: #D2E3FC;\n",
              "  }\n",
              "\n",
              "  [theme=dark] .colab-df-quickchart:hover {\n",
              "    background-color: #434B5C;\n",
              "    box-shadow: 0px 1px 3px 1px rgba(0, 0, 0, 0.15);\n",
              "    filter: drop-shadow(0px 1px 2px rgba(0, 0, 0, 0.3));\n",
              "    fill: #FFFFFF;\n",
              "  }\n",
              "</style>\n",
              "\n",
              "    <script>\n",
              "      async function quickchart(key) {\n",
              "        const containerElement = document.querySelector('#' + key);\n",
              "        const charts = await google.colab.kernel.invokeFunction(\n",
              "            'suggestCharts', [key], {});\n",
              "      }\n",
              "    </script>\n",
              "\n",
              "      <script>\n",
              "\n",
              "function displayQuickchartButton(domScope) {\n",
              "  let quickchartButtonEl =\n",
              "    domScope.querySelector('#df-b6879973-1a1d-437a-9ee4-3d0aa418ddf4 button.colab-df-quickchart');\n",
              "  quickchartButtonEl.style.display =\n",
              "    google.colab.kernel.accessAllowed ? 'block' : 'none';\n",
              "}\n",
              "\n",
              "        displayQuickchartButton(document);\n",
              "      </script>\n",
              "      <style>\n",
              "    .colab-df-container {\n",
              "      display:flex;\n",
              "      flex-wrap:wrap;\n",
              "      gap: 12px;\n",
              "    }\n",
              "\n",
              "    .colab-df-convert {\n",
              "      background-color: #E8F0FE;\n",
              "      border: none;\n",
              "      border-radius: 50%;\n",
              "      cursor: pointer;\n",
              "      display: none;\n",
              "      fill: #1967D2;\n",
              "      height: 32px;\n",
              "      padding: 0 0 0 0;\n",
              "      width: 32px;\n",
              "    }\n",
              "\n",
              "    .colab-df-convert:hover {\n",
              "      background-color: #E2EBFA;\n",
              "      box-shadow: 0px 1px 2px rgba(60, 64, 67, 0.3), 0px 1px 3px 1px rgba(60, 64, 67, 0.15);\n",
              "      fill: #174EA6;\n",
              "    }\n",
              "\n",
              "    [theme=dark] .colab-df-convert {\n",
              "      background-color: #3B4455;\n",
              "      fill: #D2E3FC;\n",
              "    }\n",
              "\n",
              "    [theme=dark] .colab-df-convert:hover {\n",
              "      background-color: #434B5C;\n",
              "      box-shadow: 0px 1px 3px 1px rgba(0, 0, 0, 0.15);\n",
              "      filter: drop-shadow(0px 1px 2px rgba(0, 0, 0, 0.3));\n",
              "      fill: #FFFFFF;\n",
              "    }\n",
              "  </style>\n",
              "\n",
              "      <script>\n",
              "        const buttonEl =\n",
              "          document.querySelector('#df-b06065f4-9409-47e6-a82f-71c9bfacc875 button.colab-df-convert');\n",
              "        buttonEl.style.display =\n",
              "          google.colab.kernel.accessAllowed ? 'block' : 'none';\n",
              "\n",
              "        async function convertToInteractive(key) {\n",
              "          const element = document.querySelector('#df-b06065f4-9409-47e6-a82f-71c9bfacc875');\n",
              "          const dataTable =\n",
              "            await google.colab.kernel.invokeFunction('convertToInteractive',\n",
              "                                                     [key], {});\n",
              "          if (!dataTable) return;\n",
              "\n",
              "          const docLinkHtml = 'Like what you see? Visit the ' +\n",
              "            '<a target=\"_blank\" href=https://colab.research.google.com/notebooks/data_table.ipynb>data table notebook</a>'\n",
              "            + ' to learn more about interactive tables.';\n",
              "          element.innerHTML = '';\n",
              "          dataTable['output_type'] = 'display_data';\n",
              "          await google.colab.output.renderOutput(dataTable, element);\n",
              "          const docLink = document.createElement('div');\n",
              "          docLink.innerHTML = docLinkHtml;\n",
              "          element.appendChild(docLink);\n",
              "        }\n",
              "      </script>\n",
              "    </div>\n",
              "  </div>\n"
            ]
          },
          "metadata": {},
          "execution_count": 139
        }
      ]
    },
    {
      "cell_type": "markdown",
      "source": [
        "### Dataset Rows & Columns count"
      ],
      "metadata": {
        "id": "7hBIi_osiCS2"
      }
    },
    {
      "cell_type": "code",
      "source": [
        "# Dataset Rows & Columns count\n",
        "# Checking number of rows and columns of the dataset using shape\n",
        "print(\"Number of rows are: \",df.shape[0])\n",
        "print(\"Number of columns are: \",df.shape[1])"
      ],
      "metadata": {
        "id": "Kllu7SJgmLij",
        "colab": {
          "base_uri": "https://localhost:8080/"
        },
        "outputId": "7e92ff8a-e59a-4ad2-d89e-0c5cc4bd9b47"
      },
      "execution_count": 140,
      "outputs": [
        {
          "output_type": "stream",
          "name": "stdout",
          "text": [
            "Number of rows are:  7787\n",
            "Number of columns are:  12\n"
          ]
        }
      ]
    },
    {
      "cell_type": "markdown",
      "source": [
        "### Dataset Information"
      ],
      "metadata": {
        "id": "JlHwYmJAmNHm"
      }
    },
    {
      "cell_type": "code",
      "source": [
        "# Dataset Info\n",
        "# Checking information about the dataset using info\n",
        "df.info()"
      ],
      "metadata": {
        "id": "e9hRXRi6meOf",
        "colab": {
          "base_uri": "https://localhost:8080/"
        },
        "outputId": "9edc7dfe-5860-45a7-d1d7-448de9f3d26f"
      },
      "execution_count": 141,
      "outputs": [
        {
          "output_type": "stream",
          "name": "stdout",
          "text": [
            "<class 'pandas.core.frame.DataFrame'>\n",
            "RangeIndex: 7787 entries, 0 to 7786\n",
            "Data columns (total 12 columns):\n",
            " #   Column        Non-Null Count  Dtype \n",
            "---  ------        --------------  ----- \n",
            " 0   show_id       7787 non-null   object\n",
            " 1   type          7787 non-null   object\n",
            " 2   title         7787 non-null   object\n",
            " 3   director      5398 non-null   object\n",
            " 4   cast          7069 non-null   object\n",
            " 5   country       7280 non-null   object\n",
            " 6   date_added    7777 non-null   object\n",
            " 7   release_year  7787 non-null   int64 \n",
            " 8   rating        7780 non-null   object\n",
            " 9   duration      7787 non-null   object\n",
            " 10  listed_in     7787 non-null   object\n",
            " 11  description   7787 non-null   object\n",
            "dtypes: int64(1), object(11)\n",
            "memory usage: 730.2+ KB\n"
          ]
        }
      ]
    },
    {
      "cell_type": "markdown",
      "source": [
        "#### Duplicate Values"
      ],
      "metadata": {
        "id": "35m5QtbWiB9F"
      }
    },
    {
      "cell_type": "code",
      "source": [
        "# Dataset Duplicate Value Count\n",
        "dup = df.duplicated().sum()\n",
        "print(f'number of duplicated rows are {dup}')"
      ],
      "metadata": {
        "id": "1sLdpKYkmox0",
        "colab": {
          "base_uri": "https://localhost:8080/"
        },
        "outputId": "db8ae520-8460-4626-f98e-ad3229511bdf"
      },
      "execution_count": 142,
      "outputs": [
        {
          "output_type": "stream",
          "name": "stdout",
          "text": [
            "number of duplicated rows are 0\n"
          ]
        }
      ]
    },
    {
      "cell_type": "markdown",
      "source": [
        "#### Missing Values/Null Values"
      ],
      "metadata": {
        "id": "PoPl-ycgm1ru"
      }
    },
    {
      "cell_type": "code",
      "source": [
        "# Missing Values/Null Values Count\n",
        "df.isnull().sum()"
      ],
      "metadata": {
        "id": "GgHWkxvamxVg",
        "colab": {
          "base_uri": "https://localhost:8080/"
        },
        "outputId": "7b5a8c43-064b-485a-c950-b9b41798d3f7"
      },
      "execution_count": 143,
      "outputs": [
        {
          "output_type": "execute_result",
          "data": {
            "text/plain": [
              "show_id            0\n",
              "type               0\n",
              "title              0\n",
              "director        2389\n",
              "cast             718\n",
              "country          507\n",
              "date_added        10\n",
              "release_year       0\n",
              "rating             7\n",
              "duration           0\n",
              "listed_in          0\n",
              "description        0\n",
              "dtype: int64"
            ]
          },
          "metadata": {},
          "execution_count": 143
        }
      ]
    },
    {
      "cell_type": "code",
      "source": [
        "# Visualizing the missing values\n",
        "# Checking Null Value by Plotting Heatmap\n",
        "sns.heatmap(df.isnull(), cbar=False)"
      ],
      "metadata": {
        "id": "3q5wnI3om9sJ",
        "colab": {
          "base_uri": "https://localhost:8080/",
          "height": 0
        },
        "outputId": "a688fd13-2226-40b5-fbcd-e3a28d71038f"
      },
      "execution_count": 144,
      "outputs": [
        {
          "output_type": "execute_result",
          "data": {
            "text/plain": [
              "<Axes: >"
            ]
          },
          "metadata": {},
          "execution_count": 144
        },
        {
          "output_type": "display_data",
          "data": {
            "text/plain": [
              "<Figure size 500x500 with 1 Axes>"
            ],
            "image/png": "[encoded data removed]"
          },
          "metadata": {}
        }
      ]
    },
    {
      "cell_type": "markdown",
      "source": [
        "### What did you know about your dataset?"
      ],
      "metadata": {
        "id": "H0kj-8xxnORC"
      }
    },
    {
      "cell_type": "markdown",
      "source": [
        "* The Netflix dataset consists of tv shows and movies available on Netflix as of 2019.\n",
        "* There are 7787 rows and 12 columns provided in the data.\n",
        "* Null values are present in director, cast, country, date_added, and rating; Since there are only few null values present in date_added and rating (10 & 7 respectively) we will remove them from the data.\n",
        "* No duplicate values exist."
      ],
      "metadata": {
        "id": "gfoNAAC-nUe_"
      }
    },
    {
      "cell_type": "markdown",
      "source": [
        "## ***2. Understanding Your Variables***"
      ],
      "metadata": {
        "id": "nA9Y7ga8ng1Z"
      }
    },
    {
      "cell_type": "code",
      "source": [
        "# Dataset Columns\n",
        "df.columns"
      ],
      "metadata": {
        "id": "j7xfkqrt5Ag5",
        "colab": {
          "base_uri": "https://localhost:8080/"
        },
        "outputId": "9be5f261-319b-47c8-fd25-3b83cf22a419"
      },
      "execution_count": 145,
      "outputs": [
        {
          "output_type": "execute_result",
          "data": {
            "text/plain": [
              "Index(['show_id', 'type', 'title', 'director', 'cast', 'country', 'date_added',\n",
              "       'release_year', 'rating', 'duration', 'listed_in', 'description'],\n",
              "      dtype='object')"
            ]
          },
          "metadata": {},
          "execution_count": 145
        }
      ]
    },
    {
      "cell_type": "code",
      "source": [
        "# Dataset Describe (all columns included)\n",
        "df.describe(include= 'all').round(2)"
      ],
      "metadata": {
        "id": "DnOaZdaE5Q5t",
        "colab": {
          "base_uri": "https://localhost:8080/",
          "height": 0
        },
        "outputId": "d18cbbd6-74ac-4f55-b9bb-8dddde35e6e7"
      },
      "execution_count": 146,
      "outputs": [
        {
          "output_type": "execute_result",
          "data": {
            "text/plain": [
              "       show_id   type title                director                cast  \\\n",
              "count     7787   7787  7787                    5398                7069   \n",
              "unique    7787      2  7787                    4049                6831   \n",
              "top         s1  Movie    3%  Raúl Campos, Jan Suter  David Attenborough   \n",
              "freq         1   5377     1                      18                  18   \n",
              "mean       NaN    NaN   NaN                     NaN                 NaN   \n",
              "std        NaN    NaN   NaN                     NaN                 NaN   \n",
              "min        NaN    NaN   NaN                     NaN                 NaN   \n",
              "25%        NaN    NaN   NaN                     NaN                 NaN   \n",
              "50%        NaN    NaN   NaN                     NaN                 NaN   \n",
              "75%        NaN    NaN   NaN                     NaN                 NaN   \n",
              "max        NaN    NaN   NaN                     NaN                 NaN   \n",
              "\n",
              "              country       date_added  release_year rating  duration  \\\n",
              "count            7280             7777       7787.00   7780      7787   \n",
              "unique            681             1565           NaN     14       216   \n",
              "top     United States  January 1, 2020           NaN  TV-MA  1 Season   \n",
              "freq             2555              118           NaN   2863      1608   \n",
              "mean              NaN              NaN       2013.93    NaN       NaN   \n",
              "std               NaN              NaN          8.76    NaN       NaN   \n",
              "min               NaN              NaN       1925.00    NaN       NaN   \n",
              "25%               NaN              NaN       2013.00    NaN       NaN   \n",
              "50%               NaN              NaN       2017.00    NaN       NaN   \n",
              "75%               NaN              NaN       2018.00    NaN       NaN   \n",
              "max               NaN              NaN       2021.00    NaN       NaN   \n",
              "\n",
              "            listed_in                                        description  \n",
              "count            7787                                               7787  \n",
              "unique            492                                               7769  \n",
              "top     Documentaries  Multiple women report their husbands as missin...  \n",
              "freq              334                                                  3  \n",
              "mean              NaN                                                NaN  \n",
              "std               NaN                                                NaN  \n",
              "min               NaN                                                NaN  \n",
              "25%               NaN                                                NaN  \n",
              "50%               NaN                                                NaN  \n",
              "75%               NaN                                                NaN  \n",
              "max               NaN                                                NaN  "
            ],
            "text/html": [
              "\n",
              "\n",
              "  <div id=\"df-cd7e2c95-9f68-4b3a-8494-7a9c1b36cad2\">\n",
              "    <div class=\"colab-df-container\">\n",
              "      <div>\n",
              "<style scoped>\n",
              "    .dataframe tbody tr th:only-of-type {\n",
              "        vertical-align: middle;\n",
              "    }\n",
              "\n",
              "    .dataframe tbody tr th {\n",
              "        vertical-align: top;\n",
              "    }\n",
              "\n",
              "    .dataframe thead th {\n",
              "        text-align: right;\n",
              "    }\n",
              "</style>\n",
              "<table border=\"1\" class=\"dataframe\">\n",
              "  <thead>\n",
              "    <tr style=\"text-align: right;\">\n",
              "      <th></th>\n",
              "      <th>show_id</th>\n",
              "      <th>type</th>\n",
              "      <th>title</th>\n",
              "      <th>director</th>\n",
              "      <th>cast</th>\n",
              "      <th>country</th>\n",
              "      <th>date_added</th>\n",
              "      <th>release_year</th>\n",
              "      <th>rating</th>\n",
              "      <th>duration</th>\n",
              "      <th>listed_in</th>\n",
              "      <th>description</th>\n",
              "    </tr>\n",
              "  </thead>\n",
              "  <tbody>\n",
              "    <tr>\n",
              "      <th>count</th>\n",
              "      <td>7787</td>\n",
              "      <td>7787</td>\n",
              "      <td>7787</td>\n",
              "      <td>5398</td>\n",
              "      <td>7069</td>\n",
              "      <td>7280</td>\n",
              "      <td>7777</td>\n",
              "      <td>7787.00</td>\n",
              "      <td>7780</td>\n",
              "      <td>7787</td>\n",
              "      <td>7787</td>\n",
              "      <td>7787</td>\n",
              "    </tr>\n",
              "    <tr>\n",
              "      <th>unique</th>\n",
              "      <td>7787</td>\n",
              "      <td>2</td>\n",
              "      <td>7787</td>\n",
              "      <td>4049</td>\n",
              "      <td>6831</td>\n",
              "      <td>681</td>\n",
              "      <td>1565</td>\n",
              "      <td>NaN</td>\n",
              "      <td>14</td>\n",
              "      <td>216</td>\n",
              "      <td>492</td>\n",
              "      <td>7769</td>\n",
              "    </tr>\n",
              "    <tr>\n",
              "      <th>top</th>\n",
              "      <td>s1</td>\n",
              "      <td>Movie</td>\n",
              "      <td>3%</td>\n",
              "      <td>Raúl Campos, Jan Suter</td>\n",
              "      <td>David Attenborough</td>\n",
              "      <td>United States</td>\n",
              "      <td>January 1, 2020</td>\n",
              "      <td>NaN</td>\n",
              "      <td>TV-MA</td>\n",
              "      <td>1 Season</td>\n",
              "      <td>Documentaries</td>\n",
              "      <td>Multiple women report their husbands as missin...</td>\n",
              "    </tr>\n",
              "    <tr>\n",
              "      <th>freq</th>\n",
              "      <td>1</td>\n",
              "      <td>5377</td>\n",
              "      <td>1</td>\n",
              "      <td>18</td>\n",
              "      <td>18</td>\n",
              "      <td>2555</td>\n",
              "      <td>118</td>\n",
              "      <td>NaN</td>\n",
              "      <td>2863</td>\n",
              "      <td>1608</td>\n",
              "      <td>334</td>\n",
              "      <td>3</td>\n",
              "    </tr>\n",
              "    <tr>\n",
              "      <th>mean</th>\n",
              "      <td>NaN</td>\n",
              "      <td>NaN</td>\n",
              "      <td>NaN</td>\n",
              "      <td>NaN</td>\n",
              "      <td>NaN</td>\n",
              "      <td>NaN</td>\n",
              "      <td>NaN</td>\n",
              "      <td>2013.93</td>\n",
              "      <td>NaN</td>\n",
              "      <td>NaN</td>\n",
              "      <td>NaN</td>\n",
              "      <td>NaN</td>\n",
              "    </tr>\n",
              "    <tr>\n",
              "      <th>std</th>\n",
              "      <td>NaN</td>\n",
              "      <td>NaN</td>\n",
              "      <td>NaN</td>\n",
              "      <td>NaN</td>\n",
              "      <td>NaN</td>\n",
              "      <td>NaN</td>\n",
              "      <td>NaN</td>\n",
              "      <td>8.76</td>\n",
              "      <td>NaN</td>\n",
              "      <td>NaN</td>\n",
              "      <td>NaN</td>\n",
              "      <td>NaN</td>\n",
              "    </tr>\n",
              "    <tr>\n",
              "      <th>min</th>\n",
              "      <td>NaN</td>\n",
              "      <td>NaN</td>\n",
              "      <td>NaN</td>\n",
              "      <td>NaN</td>\n",
              "      <td>NaN</td>\n",
              "      <td>NaN</td>\n",
              "      <td>NaN</td>\n",
              "      <td>1925.00</td>\n",
              "      <td>NaN</td>\n",
              "      <td>NaN</td>\n",
              "      <td>NaN</td>\n",
              "      <td>NaN</td>\n",
              "    </tr>\n",
              "    <tr>\n",
              "      <th>25%</th>\n",
              "      <td>NaN</td>\n",
              "      <td>NaN</td>\n",
              "      <td>NaN</td>\n",
              "      <td>NaN</td>\n",
              "      <td>NaN</td>\n",
              "      <td>NaN</td>\n",
              "      <td>NaN</td>\n",
              "      <td>2013.00</td>\n",
              "      <td>NaN</td>\n",
              "      <td>NaN</td>\n",
              "      <td>NaN</td>\n",
              "      <td>NaN</td>\n",
              "    </tr>\n",
              "    <tr>\n",
              "      <th>50%</th>\n",
              "      <td>NaN</td>\n",
              "      <td>NaN</td>\n",
              "      <td>NaN</td>\n",
              "      <td>NaN</td>\n",
              "      <td>NaN</td>\n",
              "      <td>NaN</td>\n",
              "      <td>NaN</td>\n",
              "      <td>2017.00</td>\n",
              "      <td>NaN</td>\n",
              "      <td>NaN</td>\n",
              "      <td>NaN</td>\n",
              "      <td>NaN</td>\n",
              "    </tr>\n",
              "    <tr>\n",
              "      <th>75%</th>\n",
              "      <td>NaN</td>\n",
              "      <td>NaN</td>\n",
              "      <td>NaN</td>\n",
              "      <td>NaN</td>\n",
              "      <td>NaN</td>\n",
              "      <td>NaN</td>\n",
              "      <td>NaN</td>\n",
              "      <td>2018.00</td>\n",
              "      <td>NaN</td>\n",
              "      <td>NaN</td>\n",
              "      <td>NaN</td>\n",
              "      <td>NaN</td>\n",
              "    </tr>\n",
              "    <tr>\n",
              "      <th>max</th>\n",
              "      <td>NaN</td>\n",
              "      <td>NaN</td>\n",
              "      <td>NaN</td>\n",
              "      <td>NaN</td>\n",
              "      <td>NaN</td>\n",
              "      <td>NaN</td>\n",
              "      <td>NaN</td>\n",
              "      <td>2021.00</td>\n",
              "      <td>NaN</td>\n",
              "      <td>NaN</td>\n",
              "      <td>NaN</td>\n",
              "      <td>NaN</td>\n",
              "    </tr>\n",
              "  </tbody>\n",
              "</table>\n",
              "</div>\n",
              "      <button class=\"colab-df-convert\" onclick=\"convertToInteractive('df-cd7e2c95-9f68-4b3a-8494-7a9c1b36cad2')\"\n",
              "              title=\"Convert this dataframe to an interactive table.\"\n",
              "              style=\"display:none;\">\n",
              "\n",
              "  <svg xmlns=\"http://www.w3.org/2000/svg\" height=\"24px\"viewBox=\"0 0 24 24\"\n",
              "       width=\"24px\">\n",
              "    <path d=\"M0 0h24v24H0V0z\" fill=\"none\"/>\n",
              "    <path d=\"M18.56 5.44l.94 2.06.94-2.06 2.06-.94-2.06-.94-.94-2.06-.94 2.06-2.06.94zm-11 1L8.5 8.5l.94-2.06 2.06-.94-2.06-.94L8.5 2.5l-.94 2.06-2.06.94zm10 10l.94 2.06.94-2.06 2.06-.94-2.06-.94-.94-2.06-.94 2.06-2.06.94z\"/><path d=\"M17.41 7.96l-1.37-1.37c-.4-.4-.92-.59-1.43-.59-.52 0-1.04.2-1.43.59L10.3 9.45l-7.72 7.72c-.78.78-.78 2.05 0 2.83L4 21.41c.39.39.9.59 1.41.59.51 0 1.02-.2 1.41-.59l7.78-7.78 2.81-2.81c.8-.78.8-2.07 0-2.86zM5.41 20L4 18.59l7.72-7.72 1.47 1.35L5.41 20z\"/>\n",
              "  </svg>\n",
              "      </button>\n",
              "\n",
              "\n",
              "\n",
              "    <div id=\"df-ab1b687d-a9cf-4174-9fd8-bba7dd6a2dd6\">\n",
              "      <button class=\"colab-df-quickchart\" onclick=\"quickchart('df-ab1b687d-a9cf-4174-9fd8-bba7dd6a2dd6')\"\n",
              "              title=\"Suggest charts.\"\n",
              "              style=\"display:none;\">\n",
              "\n",
              "<svg xmlns=\"http://www.w3.org/2000/svg\" height=\"24px\"viewBox=\"0 0 24 24\"\n",
              "     width=\"24px\">\n",
              "    <g>\n",
              "        <path d=\"M19 3H5c-1.1 0-2 .9-2 2v14c0 1.1.9 2 2 2h14c1.1 0 2-.9 2-2V5c0-1.1-.9-2-2-2zM9 17H7v-7h2v7zm4 0h-2V7h2v10zm4 0h-2v-4h2v4z\"/>\n",
              "    </g>\n",
              "</svg>\n",
              "      </button>\n",
              "    </div>\n",
              "\n",
              "<style>\n",
              "  .colab-df-quickchart {\n",
              "    background-color: #E8F0FE;\n",
              "    border: none;\n",
              "    border-radius: 50%;\n",
              "    cursor: pointer;\n",
              "    display: none;\n",
              "    fill: #1967D2;\n",
              "    height: 32px;\n",
              "    padding: 0 0 0 0;\n",
              "    width: 32px;\n",
              "  }\n",
              "\n",
              "  .colab-df-quickchart:hover {\n",
              "    background-color: #E2EBFA;\n",
              "    box-shadow: 0px 1px 2px rgba(60, 64, 67, 0.3), 0px 1px 3px 1px rgba(60, 64, 67, 0.15);\n",
              "    fill: #174EA6;\n",
              "  }\n",
              "\n",
              "  [theme=dark] .colab-df-quickchart {\n",
              "    background-color: #3B4455;\n",
              "    fill: #D2E3FC;\n",
              "  }\n",
              "\n",
              "  [theme=dark] .colab-df-quickchart:hover {\n",
              "    background-color: #434B5C;\n",
              "    box-shadow: 0px 1px 3px 1px rgba(0, 0, 0, 0.15);\n",
              "    filter: drop-shadow(0px 1px 2px rgba(0, 0, 0, 0.3));\n",
              "    fill: #FFFFFF;\n",
              "  }\n",
              "</style>\n",
              "\n",
              "    <script>\n",
              "      async function quickchart(key) {\n",
              "        const containerElement = document.querySelector('#' + key);\n",
              "        const charts = await google.colab.kernel.invokeFunction(\n",
              "            'suggestCharts', [key], {});\n",
              "      }\n",
              "    </script>\n",
              "\n",
              "      <script>\n",
              "\n",
              "function displayQuickchartButton(domScope) {\n",
              "  let quickchartButtonEl =\n",
              "    domScope.querySelector('#df-ab1b687d-a9cf-4174-9fd8-bba7dd6a2dd6 button.colab-df-quickchart');\n",
              "  quickchartButtonEl.style.display =\n",
              "    google.colab.kernel.accessAllowed ? 'block' : 'none';\n",
              "}\n",
              "\n",
              "        displayQuickchartButton(document);\n",
              "      </script>\n",
              "      <style>\n",
              "    .colab-df-container {\n",
              "      display:flex;\n",
              "      flex-wrap:wrap;\n",
              "      gap: 12px;\n",
              "    }\n",
              "\n",
              "    .colab-df-convert {\n",
              "      background-color: #E8F0FE;\n",
              "      border: none;\n",
              "      border-radius: 50%;\n",
              "      cursor: pointer;\n",
              "      display: none;\n",
              "      fill: #1967D2;\n",
              "      height: 32px;\n",
              "      padding: 0 0 0 0;\n",
              "      width: 32px;\n",
              "    }\n",
              "\n",
              "    .colab-df-convert:hover {\n",
              "      background-color: #E2EBFA;\n",
              "      box-shadow: 0px 1px 2px rgba(60, 64, 67, 0.3), 0px 1px 3px 1px rgba(60, 64, 67, 0.15);\n",
              "      fill: #174EA6;\n",
              "    }\n",
              "\n",
              "    [theme=dark] .colab-df-convert {\n",
              "      background-color: #3B4455;\n",
              "      fill: #D2E3FC;\n",
              "    }\n",
              "\n",
              "    [theme=dark] .colab-df-convert:hover {\n",
              "      background-color: #434B5C;\n",
              "      box-shadow: 0px 1px 3px 1px rgba(0, 0, 0, 0.15);\n",
              "      filter: drop-shadow(0px 1px 2px rgba(0, 0, 0, 0.3));\n",
              "      fill: #FFFFFF;\n",
              "    }\n",
              "  </style>\n",
              "\n",
              "      <script>\n",
              "        const buttonEl =\n",
              "          document.querySelector('#df-cd7e2c95-9f68-4b3a-8494-7a9c1b36cad2 button.colab-df-convert');\n",
              "        buttonEl.style.display =\n",
              "          google.colab.kernel.accessAllowed ? 'block' : 'none';\n",
              "\n",
              "        async function convertToInteractive(key) {\n",
              "          const element = document.querySelector('#df-cd7e2c95-9f68-4b3a-8494-7a9c1b36cad2');\n",
              "          const dataTable =\n",
              "            await google.colab.kernel.invokeFunction('convertToInteractive',\n",
              "                                                     [key], {});\n",
              "          if (!dataTable) return;\n",
              "\n",
              "          const docLinkHtml = 'Like what you see? Visit the ' +\n",
              "            '<a target=\"_blank\" href=https://colab.research.google.com/notebooks/data_table.ipynb>data table notebook</a>'\n",
              "            + ' to learn more about interactive tables.';\n",
              "          element.innerHTML = '';\n",
              "          dataTable['output_type'] = 'display_data';\n",
              "          await google.colab.output.renderOutput(dataTable, element);\n",
              "          const docLink = document.createElement('div');\n",
              "          docLink.innerHTML = docLinkHtml;\n",
              "          element.appendChild(docLink);\n",
              "        }\n",
              "      </script>\n",
              "    </div>\n",
              "  </div>\n"
            ]
          },
          "metadata": {},
          "execution_count": 146
        }
      ]
    },
    {
      "cell_type": "markdown",
      "source": [
        "### Variables Description"
      ],
      "metadata": {
        "id": "PBTbrJXOngz2"
      }
    },
    {
      "cell_type": "markdown",
      "source": [
        "### <b> The dataset contains movies and tv shows information (show id, type, title, director, release year, rating, duration etc.).</b>\n",
        "\n",
        "\n",
        "<b>Attribute Information : </b>\n",
        "\n",
        "- **show_id**: Unique Id number for all the listed rows\n",
        "\n",
        "- **type**: denotes type of show namely TV Show or Movie\n",
        "\n",
        "- **title**: title of the movie\n",
        "\n",
        "- **director**: Name of director/directors\n",
        "\n",
        "- **cast**: lists the cast of the movie\n",
        "\n",
        "- **country**: country of the production house\n",
        "\n",
        "- **date_added**: the date the show was added\n",
        "\n",
        "- **release_year**: year of the release of the show\n",
        "\n",
        "- **rating**: show ratings\n",
        "\n",
        "- **duration**: duration of the show\n",
        "\n",
        "- **listed_in**: the genre of the show\n",
        "\n",
        "- **description**: summary/ description of the movie\n"
      ],
      "metadata": {
        "id": "aJV4KIxSnxay"
      }
    },
    {
      "cell_type": "markdown",
      "source": [
        "### Check Unique Values for each variable."
      ],
      "metadata": {
        "id": "u3PMJOP6ngxN"
      }
    },
    {
      "cell_type": "code",
      "source": [
        "# Check Unique Values for each variable using a for loop.\n",
        "for i in df.columns.tolist():\n",
        "  print(\"No. of unique values in\",i,\"is\",df[i].nunique())"
      ],
      "metadata": {
        "id": "zms12Yq5n-jE",
        "colab": {
          "base_uri": "https://localhost:8080/"
        },
        "outputId": "93373fc4-43ad-48f1-dbbe-05649bc2042c"
      },
      "execution_count": 147,
      "outputs": [
        {
          "output_type": "stream",
          "name": "stdout",
          "text": [
            "No. of unique values in show_id is 7787\n",
            "No. of unique values in type is 2\n",
            "No. of unique values in title is 7787\n",
            "No. of unique values in director is 4049\n",
            "No. of unique values in cast is 6831\n",
            "No. of unique values in country is 681\n",
            "No. of unique values in date_added is 1565\n",
            "No. of unique values in release_year is 73\n",
            "No. of unique values in rating is 14\n",
            "No. of unique values in duration is 216\n",
            "No. of unique values in listed_in is 492\n",
            "No. of unique values in description is 7769\n"
          ]
        }
      ]
    },
    {
      "cell_type": "markdown",
      "source": [
        "## 3. ***Data Wrangling***"
      ],
      "metadata": {
        "id": "dauF4eBmngu3"
      }
    },
    {
      "cell_type": "markdown",
      "source": [
        "### Data Wrangling Code"
      ],
      "metadata": {
        "id": "bKJF3rekwFvQ"
      }
    },
    {
      "cell_type": "code",
      "source": [
        "# Before doing any data wrangling lets create copy of the dataset\n",
        "data = df.copy()"
      ],
      "metadata": {
        "id": "wk-9a2fpoLcV"
      },
      "execution_count": 148,
      "outputs": []
    },
    {
      "cell_type": "code",
      "source": [
        "# Filling cast null values as not available\n",
        "data['cast'] = data['cast'].fillna(value='Not available')"
      ],
      "metadata": {
        "id": "ZK50dOdGVIyL"
      },
      "execution_count": 149,
      "outputs": []
    },
    {
      "cell_type": "code",
      "source": [
        "# Filling contry null values as not known, the same can be replaced by mode of the country using the below commented code\n",
        "# Note: only one line should be selected to run this\n",
        "data['country'] = data['country'].fillna(value='Not Known')\n",
        "# data['country'] = data['country'].fillna(value=data['country'].mode())"
      ],
      "metadata": {
        "id": "EO1FDrbcVx9x"
      },
      "execution_count": 150,
      "outputs": []
    },
    {
      "cell_type": "code",
      "source": [
        "# Since date_added and rating have low number of missing values, that are 10 and 7 respectively, i have dropping the same\n",
        "data = data.dropna(subset=['date_added','rating'])"
      ],
      "metadata": {
        "id": "zOBfidZrWMMk"
      },
      "execution_count": 151,
      "outputs": []
    },
    {
      "cell_type": "code",
      "source": [
        "# Since too many missing values in director column, i have dropping the same\n",
        "data = data.drop(['director'],axis=1)"
      ],
      "metadata": {
        "id": "kdb_mXaUWqUD"
      },
      "execution_count": 152,
      "outputs": []
    },
    {
      "cell_type": "code",
      "source": [
        "# Checking missing values again for confirmation\n",
        "data.isna().sum()"
      ],
      "metadata": {
        "colab": {
          "base_uri": "https://localhost:8080/"
        },
        "id": "0rk75U5fXYvr",
        "outputId": "f2ecd381-b3a9-4794-8e04-492ee5fe7cf5"
      },
      "execution_count": 153,
      "outputs": [
        {
          "output_type": "execute_result",
          "data": {
            "text/plain": [
              "show_id         0\n",
              "type            0\n",
              "title           0\n",
              "cast            0\n",
              "country         0\n",
              "date_added      0\n",
              "release_year    0\n",
              "rating          0\n",
              "duration        0\n",
              "listed_in       0\n",
              "description     0\n",
              "dtype: int64"
            ]
          },
          "metadata": {},
          "execution_count": 153
        }
      ]
    },
    {
      "cell_type": "markdown",
      "source": [
        "### What all manipulations have you done and insights you found?"
      ],
      "metadata": {
        "id": "MSa1f5Uengrz"
      }
    },
    {
      "cell_type": "markdown",
      "source": [
        "To make the data analysis ready i have done the following:\n",
        "1. Filled missing values of cast with Not available.\n",
        "2. Filled missing values of country with Not Known.\n",
        "3. Dropped rows of date_added missing values.\n",
        "4. Dropped rows of ratings missing values.\n",
        "5. Dropped the entire column of director as it had much number of missing values."
      ],
      "metadata": {
        "id": "LbyXE7I1olp8"
      }
    },
    {
      "cell_type": "markdown",
      "source": [
        "## ***4. Data Vizualization, Storytelling & Experimenting with charts : Understand the relationships between variables***"
      ],
      "metadata": {
        "id": "GF8Ens_Soomf"
      }
    },
    {
      "cell_type": "markdown",
      "source": [
        "#### Chart - 1 : Movies vs TV Shows Share"
      ],
      "metadata": {
        "id": "0wOQAZs5pc--"
      }
    },
    {
      "cell_type": "code",
      "source": [
        "# Chart - 1 Pie Chart Visualization Code For Movie vs TV Show Share\n",
        "spread = data['type'].value_counts()\n",
        "plt.rcParams['figure.figsize'] = (5,5)\n",
        "\n",
        "# Set Labels\n",
        "spread.plot(kind = 'pie', autopct='%1.2f%%', cmap='Set1')\n",
        "plt.title(f'Movie vs TV Show share')\n",
        "plt.show()"
      ],
      "metadata": {
        "id": "7v_ESjsspbW7",
        "colab": {
          "base_uri": "https://localhost:8080/",
          "height": 0
        },
        "outputId": "cd336bd7-8698-4d24-93bf-adb032d05f1d"
      },
      "execution_count": 154,
      "outputs": [
        {
          "output_type": "display_data",
          "data": {
            "text/plain": [
              "<Figure size 500x500 with 1 Axes>"
            ],
            "image/png": "[encoded data removed]"
          },
          "metadata": {}
        }
      ]
    },
    {
      "cell_type": "markdown",
      "source": [
        "##### 1. Why did you pick the specific chart?"
      ],
      "metadata": {
        "id": "K5QZ13OEpz2H"
      }
    },
    {
      "cell_type": "markdown",
      "source": [
        "A pie chart expresses a part-to-whole relationship in your data. It's easy to explain the percentage comparison through area covered in a circle with different colors. Wherever different percentage comparison comes into action, pie chart is used frequently. So, i have used Pie Chart and which helped us to get the percentage comparison more clearly and precisely."
      ],
      "metadata": {
        "id": "XESiWehPqBRc"
      }
    },
    {
      "cell_type": "markdown",
      "source": [
        "##### 2. What is/are the insight(s) found from the chart?"
      ],
      "metadata": {
        "id": "lQ7QKXXCp7Bj"
      }
    },
    {
      "cell_type": "markdown",
      "source": [
        "From the above chart, we got to know that the types of content available in netflix is not even with high count for TV shows. 69.14% of the data belongs to movies and 30.86% of the data for TV shows."
      ],
      "metadata": {
        "id": "C_j1G7yiqdRP"
      }
    },
    {
      "cell_type": "markdown",
      "source": [
        "##### 3. Will the gained insights help creating a positive business impact?\n",
        "Are there any insights that lead to negative growth? Justify with specific reason."
      ],
      "metadata": {
        "id": "448CDAPjqfQr"
      }
    },
    {
      "cell_type": "markdown",
      "source": [
        "The insights gained from the chart can potentially create a positive business impact by providing valuable information for decision-making. Understanding the distribution of categories in various columns helps identify patterns and target specific demographics or areas of focus. For example, businesses can develop tailored marketing campaigns based on the types of content most watched by the audience."
      ],
      "metadata": {
        "id": "3cspy4FjqxJW"
      }
    },
    {
      "cell_type": "markdown",
      "source": [
        "#### Chart - 2 : Distribution of Various Ratings"
      ],
      "metadata": {
        "id": "KSlN3yHqYklG"
      }
    },
    {
      "cell_type": "code",
      "source": [
        "# Chart - 2 Count Plot Visualization Code for Various Ratings of Contents\n",
        "plt.figure(figsize=(10, 5))\n",
        "sns.countplot(x='rating', hue='type', data=data, palette=['#564d4d', '#db0000'])\n",
        "\n",
        "# Set Labels\n",
        "plt.title('Counts of Various Ratings')\n",
        "plt.xlabel('Ratings')\n",
        "plt.xticks(rotation = 60)\n",
        "\n",
        "# Display Chart\n",
        "plt.show()\n",
        "\n",
        "# Printing The Counts of Each Ratings for Different Content\n",
        "print('Counts of Each Ratings for Different Content:')\n",
        "print(data.groupby(['rating', 'type']).size())"
      ],
      "metadata": {
        "id": "R4YgtaqtYklH",
        "colab": {
          "base_uri": "https://localhost:8080/",
          "height": 0
        },
        "outputId": "da1105c3-d253-406b-a08b-072b9527e966"
      },
      "execution_count": 155,
      "outputs": [
        {
          "output_type": "display_data",
          "data": {
            "text/plain": [
              "<Figure size 1000x500 with 1 Axes>"
            ],
            "image/png": "[encoded data removed]"
          },
          "metadata": {}
        },
        {
          "output_type": "stream",
          "name": "stdout",
          "text": [
            "Counts of Each Ratings for Different Content:\n",
            "rating    type   \n",
            "G         Movie        39\n",
            "NC-17     Movie         3\n",
            "NR        Movie        79\n",
            "          TV Show       4\n",
            "PG        Movie       247\n",
            "PG-13     Movie       386\n",
            "R         Movie       663\n",
            "          TV Show       2\n",
            "TV-14     Movie      1272\n",
            "          TV Show     656\n",
            "TV-G      Movie       111\n",
            "          TV Show      83\n",
            "TV-MA     Movie      1845\n",
            "          TV Show    1016\n",
            "TV-PG     Movie       505\n",
            "          TV Show     299\n",
            "TV-Y      Movie       117\n",
            "          TV Show     162\n",
            "TV-Y7     Movie        95\n",
            "          TV Show     175\n",
            "TV-Y7-FV  Movie         5\n",
            "          TV Show       1\n",
            "UR        Movie         5\n",
            "dtype: int64\n"
          ]
        }
      ]
    },
    {
      "cell_type": "markdown",
      "source": [
        "##### 1. Why did you pick the specific chart?"
      ],
      "metadata": {
        "id": "t6dVpIINYklI"
      }
    },
    {
      "cell_type": "markdown",
      "source": [
        "Bar charts are used to compare the size or frequency of different categories or groups of data. Bar charts are useful for comparing data across different categories, and they can be used to display a large amount of data in a small space."
      ],
      "metadata": {
        "id": "5aaW0BYyYklI"
      }
    },
    {
      "cell_type": "markdown",
      "source": [
        "##### 2. What is/are the insight(s) found from the chart?"
      ],
      "metadata": {
        "id": "ijmpgYnKYklI"
      }
    },
    {
      "cell_type": "markdown",
      "source": [
        "From above count plot we can clearly see that the most of the ratings are given by TV-MA followed by TV-14 and the least ratings are given by NC-17."
      ],
      "metadata": {
        "id": "PSx9atu2YklI"
      }
    },
    {
      "cell_type": "markdown",
      "source": [
        "##### 3. Will the gained insights help creating a positive business impact?\n",
        "Are there any insights that lead to negative growth? Justify with specific reason."
      ],
      "metadata": {
        "id": "-JiQyfWJYklI"
      }
    },
    {
      "cell_type": "markdown",
      "source": [
        "***Each TV show and movie on Netflix is assigned a maturity rating to help members make informed choices for themselves and their children. Netflix determines maturity ratings by the frequency and impact of mature content in a TV show or movie. TV show ratings reflect the overall maturity level of the whole series.***\n",
        "\n",
        "\n",
        "![image.png](data:image/png;base64,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)\n",
        "\n",
        "\n",
        "\n",
        "Yes, from above insight we go to know:\n",
        "\n",
        "* TV-MA tops the charts, indicating that mature content is more popular on Netflix.\n",
        "* This popularity is followed by TV-14 and TV-PG, which are Shows focused on Teens and Older kids.\n",
        "* Very few titles with a rating NC-17 exist. It can be understood since this type of content is purely for the audience above 17."
      ],
      "metadata": {
        "id": "Zue0t1pXmrS0"
      }
    },
    {
      "cell_type": "markdown",
      "source": [
        "#### Chart - 3 : Top 10 Countries with Most Content"
      ],
      "metadata": {
        "id": "EM7whBJCYoAo"
      }
    },
    {
      "cell_type": "code",
      "source": [
        "# Chart - 3 Count Plot Visualization Code for Content Available in Different Countries\n",
        "# Not Taking Unknown Countries\n",
        "country_df = data[data['country'] != 'Not Known']\n",
        "\n",
        "# Set Labels\n",
        "plt.figure(figsize=(10, 5))\n",
        "sns.countplot(y='country', hue='type', data=country_df, palette=['#564d4d', '#db0000'], order=country_df.country.value_counts().iloc[:10].index)\n",
        "plt.title('Top Ten Countries With Most Content')\n",
        "plt.ylabel('Country')\n",
        "\n",
        "# Display Chart\n",
        "plt.show()\n",
        "\n",
        "# Printing The Counts of Each Content for Top 10 Countries\n",
        "print('Counts of Each Content for Top 10 Countries:')\n",
        "print(country_df.groupby(['type']).country.value_counts().groupby(level=0, group_keys=False).head(10))"
      ],
      "metadata": {
        "id": "t6GMdE67YoAp",
        "colab": {
          "base_uri": "https://localhost:8080/",
          "height": 886
        },
        "outputId": "b02ff611-3fef-4af4-8141-e6cf4e2a4a67"
      },
      "execution_count": 204,
      "outputs": [
        {
          "output_type": "display_data",
          "data": {
            "text/plain": [
              "<Figure size 1000x500 with 1 Axes>"
            ],
            "image/png": "[encoded data removed]"
          },
          "metadata": {}
        },
        {
          "output_type": "stream",
          "name": "stdout",
          "text": [
            "Counts of Each Content for Top 10 Countries:\n",
            "type     country       \n",
            "Movie    United States     1847\n",
            "         India              852\n",
            "         United Kingdom     193\n",
            "         Canada             118\n",
            "         Egypt               89\n",
            "         Spain               89\n",
            "         Turkey              73\n",
            "         Philippines         70\n",
            "         France              69\n",
            "         Japan               69\n",
            "TV Show  United States      699\n",
            "         United Kingdom     203\n",
            "         Japan              155\n",
            "         South Korea        147\n",
            "         India               71\n",
            "         Taiwan              68\n",
            "         Canada              59\n",
            "         France              46\n",
            "         Spain               45\n",
            "         Australia           44\n",
            "Name: country, dtype: int64\n"
          ]
        }
      ]
    },
    {
      "cell_type": "markdown",
      "source": [
        "##### 1. Why did you pick the specific chart?"
      ],
      "metadata": {
        "id": "fge-S5ZAYoAp"
      }
    },
    {
      "cell_type": "markdown",
      "source": [
        "Bar charts are used to compare the size or frequency of different categories or groups of data. Bar charts are useful for comparing data across different categories, and they can be used to display a large amount of data in a small space."
      ],
      "metadata": {
        "id": "5dBItgRVYoAp"
      }
    },
    {
      "cell_type": "markdown",
      "source": [
        "##### 2. What is/are the insight(s) found from the chart?"
      ],
      "metadata": {
        "id": "85gYPyotYoAp"
      }
    },
    {
      "cell_type": "markdown",
      "source": [
        "From above count plot we found that the content belongs to United States alone is 2546 (Movie: 1847, TV Show: 699) and followed by India."
      ],
      "metadata": {
        "id": "4jstXR6OYoAp"
      }
    },
    {
      "cell_type": "markdown",
      "source": [
        "##### 3. Will the gained insights help creating a positive business impact?\n",
        "Are there any insights that lead to negative growth? Justify with specific reason."
      ],
      "metadata": {
        "id": "RoGjAbkUYoAp"
      }
    },
    {
      "cell_type": "markdown",
      "source": [
        "Yes, from above insight we got to know:\n",
        "* The United States is a leading producer of both types of content; this makes sense since Netflix is a US company.\n",
        "\n",
        "* The influence of Bollywood in India explains the type of content available, and perhaps the main focus of this industry is Movies and not TV Shows.\n",
        "\n",
        "* On the other hand, TV Shows are more frequent in South Korea, which explains the KDrama culture nowadays."
      ],
      "metadata": {
        "id": "zfJ8IqMcYoAp"
      }
    },
    {
      "cell_type": "markdown",
      "source": [
        "#### Chart - 4 : Content Released Over The Years"
      ],
      "metadata": {
        "id": "4Of9eVA-YrdM"
      }
    },
    {
      "cell_type": "code",
      "source": [
        "# Create New Dataframes for Movie and TV Show Release\n",
        "release_year_df = data[['type','release_year']]\n",
        "movie_year = release_year_df[release_year_df['type']=='Movie'].release_year.value_counts().to_frame().reset_index().rename(columns={'index': 'year','release_year':'count'})\n",
        "\n",
        "show_year = release_year_df[release_year_df['type']=='TV Show'].release_year.value_counts().to_frame().reset_index().rename(columns={'index': 'year','release_year':'count'})"
      ],
      "metadata": {
        "id": "ELtbK3FhJZep"
      },
      "execution_count": 205,
      "outputs": []
    },
    {
      "cell_type": "code",
      "source": [
        "# Chart - 4 Line Plot Visualization Code for Content Released Over The Years\n",
        "fig, ax = plt.subplots(figsize=(10, 5))\n",
        "sns.lineplot(data=movie_year, x='year', y='count', color = '#db0000')\n",
        "sns.lineplot(data=show_year, x='year', y='count', color = '#564d4d')\n",
        "\n",
        "# Set Labels\n",
        "plt.title('Content Released Over The Years')\n",
        "plt.legend(['Movie','TV Show'])\n",
        "plt.xlabel('Release Year')\n",
        "plt.ylabel('Count')\n",
        "\n",
        "# Display Chart\n",
        "plt.show()"
      ],
      "metadata": {
        "id": "irlUoxc8YrdO",
        "colab": {
          "base_uri": "https://localhost:8080/",
          "height": 487
        },
        "outputId": "53e85ea2-fd9b-4907-cd1c-02a5b3e87714"
      },
      "execution_count": 220,
      "outputs": [
        {
          "output_type": "display_data",
          "data": {
            "text/plain": [
              "<Figure size 1000x500 with 1 Axes>"
            ],
            "image/png": "[encoded data removed]"
          },
          "metadata": {}
        }
      ]
    },
    {
      "cell_type": "code",
      "source": [
        "# Printing The Counts of Each Content Release for Top 10 Year\n",
        "print(data.groupby(['type']).release_year.value_counts().groupby(level=0, group_keys=False).head(10))"
      ],
      "metadata": {
        "colab": {
          "base_uri": "https://localhost:8080/"
        },
        "id": "BhcC2r5cv-No",
        "outputId": "44c57370-8029-43b8-e4a0-c1a8e16adcdd"
      },
      "execution_count": 218,
      "outputs": [
        {
          "output_type": "stream",
          "name": "stdout",
          "text": [
            "type     release_year\n",
            "Movie    2017            742\n",
            "         2018            734\n",
            "         2016            642\n",
            "         2019            582\n",
            "         2020            411\n",
            "         2015            380\n",
            "         2014            244\n",
            "         2013            202\n",
            "         2012            158\n",
            "         2010            135\n",
            "TV Show  2020            457\n",
            "         2019            414\n",
            "         2018            386\n",
            "         2017            268\n",
            "         2016            239\n",
            "         2015            156\n",
            "         2014             90\n",
            "         2013             63\n",
            "         2012             60\n",
            "         2011             39\n",
            "Name: release_year, dtype: int64\n"
          ]
        }
      ]
    },
    {
      "cell_type": "markdown",
      "source": [
        "##### 1. Why did you pick the specific chart?"
      ],
      "metadata": {
        "id": "iky9q4vBYrdO"
      }
    },
    {
      "cell_type": "markdown",
      "source": [
        "A line plot, also known as a line chart or line graph, is a way to visualize the trend of a single variable over time. It uses a series of data points connected by a line to show how the value of the variable changes over time.\n",
        "\n",
        "Line plots are useful because they can quickly and easily show trends and patterns in the data. They are particularly useful for showing how a variable changes over a period of time. They are also useful for comparing the trends of multiple variables.\n",
        "\n",
        "To see how the different contents are released over the years i have used line plot here."
      ],
      "metadata": {
        "id": "aJRCwT6DYrdO"
      }
    },
    {
      "cell_type": "markdown",
      "source": [
        "##### 2. What is/are the insight(s) found from the chart?"
      ],
      "metadata": {
        "id": "F6T5p64dYrdO"
      }
    },
    {
      "cell_type": "markdown",
      "source": [
        "From above graph, it is observed that most of the content on netflix are of the release date from 2010 to 2018."
      ],
      "metadata": {
        "id": "Xx8WAJvtYrdO"
      }
    },
    {
      "cell_type": "markdown",
      "source": [
        "##### 3. Will the gained insights help creating a positive business impact?\n",
        "Are there any insights that lead to negative growth? Justify with specific reason."
      ],
      "metadata": {
        "id": "y-Ehk30pYrdP"
      }
    },
    {
      "cell_type": "markdown",
      "source": [
        "From the above insight we got to know:\n",
        "* Growth in the number of movies on Netflix is much higher than tv shows.\n",
        "* Most of the content available was released between 2010 and 2021.\n",
        "* The highest number of movies got released in 2017 and 2018 and tv shows got released in 2019 and 2020.\n",
        "* The line plot shows very few movies, and tv shows got released before the year 2010 and in 2021. It is due to very little data collected from the year 2021."
      ],
      "metadata": {
        "id": "jLNxxz7MYrdP"
      }
    },
    {
      "cell_type": "markdown",
      "source": [
        "#### Chart - 5"
      ],
      "metadata": {
        "id": "bamQiAODYuh1"
      }
    },
    {
      "cell_type": "code",
      "source": [
        "# Chart - 5 visualization code"
      ],
      "metadata": {
        "id": "TIJwrbroYuh3"
      },
      "execution_count": 159,
      "outputs": []
    },
    {
      "cell_type": "markdown",
      "source": [
        "##### 1. Why did you pick the specific chart?"
      ],
      "metadata": {
        "id": "QHF8YVU7Yuh3"
      }
    },
    {
      "cell_type": "markdown",
      "source": [
        "Answer Here."
      ],
      "metadata": {
        "id": "dcxuIMRPYuh3"
      }
    },
    {
      "cell_type": "markdown",
      "source": [
        "##### 2. What is/are the insight(s) found from the chart?"
      ],
      "metadata": {
        "id": "GwzvFGzlYuh3"
      }
    },
    {
      "cell_type": "markdown",
      "source": [
        "Answer Here"
      ],
      "metadata": {
        "id": "uyqkiB8YYuh3"
      }
    },
    {
      "cell_type": "markdown",
      "source": [
        "##### 3. Will the gained insights help creating a positive business impact?\n",
        "Are there any insights that lead to negative growth? Justify with specific reason."
      ],
      "metadata": {
        "id": "qYpmQ266Yuh3"
      }
    },
    {
      "cell_type": "markdown",
      "source": [
        "Answer Here"
      ],
      "metadata": {
        "id": "_WtzZ_hCYuh4"
      }
    },
    {
      "cell_type": "markdown",
      "source": [
        "#### Chart - 6"
      ],
      "metadata": {
        "id": "OH-pJp9IphqM"
      }
    },
    {
      "cell_type": "code",
      "source": [
        "# Chart - 6 visualization code"
      ],
      "metadata": {
        "id": "kuRf4wtuphqN"
      },
      "execution_count": 160,
      "outputs": []
    },
    {
      "cell_type": "markdown",
      "source": [
        "##### 1. Why did you pick the specific chart?"
      ],
      "metadata": {
        "id": "bbFf2-_FphqN"
      }
    },
    {
      "cell_type": "markdown",
      "source": [
        "Answer Here."
      ],
      "metadata": {
        "id": "loh7H2nzphqN"
      }
    },
    {
      "cell_type": "markdown",
      "source": [
        "##### 2. What is/are the insight(s) found from the chart?"
      ],
      "metadata": {
        "id": "_ouA3fa0phqN"
      }
    },
    {
      "cell_type": "markdown",
      "source": [
        "Answer Here"
      ],
      "metadata": {
        "id": "VECbqPI7phqN"
      }
    },
    {
      "cell_type": "markdown",
      "source": [
        "##### 3. Will the gained insights help creating a positive business impact?\n",
        "Are there any insights that lead to negative growth? Justify with specific reason."
      ],
      "metadata": {
        "id": "Seke61FWphqN"
      }
    },
    {
      "cell_type": "markdown",
      "source": [
        "Answer Here"
      ],
      "metadata": {
        "id": "DW4_bGpfphqN"
      }
    },
    {
      "cell_type": "markdown",
      "source": [
        "#### Chart - 7"
      ],
      "metadata": {
        "id": "PIIx-8_IphqN"
      }
    },
    {
      "cell_type": "code",
      "source": [
        "# Chart - 7 visualization code"
      ],
      "metadata": {
        "id": "lqAIGUfyphqO"
      },
      "execution_count": 161,
      "outputs": []
    },
    {
      "cell_type": "markdown",
      "source": [
        "##### 1. Why did you pick the specific chart?"
      ],
      "metadata": {
        "id": "t27r6nlMphqO"
      }
    },
    {
      "cell_type": "markdown",
      "source": [
        "Answer Here."
      ],
      "metadata": {
        "id": "iv6ro40sphqO"
      }
    },
    {
      "cell_type": "markdown",
      "source": [
        "##### 2. What is/are the insight(s) found from the chart?"
      ],
      "metadata": {
        "id": "r2jJGEOYphqO"
      }
    },
    {
      "cell_type": "markdown",
      "source": [
        "Answer Here"
      ],
      "metadata": {
        "id": "Po6ZPi4hphqO"
      }
    },
    {
      "cell_type": "markdown",
      "source": [
        "##### 3. Will the gained insights help creating a positive business impact?\n",
        "Are there any insights that lead to negative growth? Justify with specific reason."
      ],
      "metadata": {
        "id": "b0JNsNcRphqO"
      }
    },
    {
      "cell_type": "markdown",
      "source": [
        "Answer Here"
      ],
      "metadata": {
        "id": "xvSq8iUTphqO"
      }
    },
    {
      "cell_type": "markdown",
      "source": [
        "#### Chart - 8"
      ],
      "metadata": {
        "id": "BZR9WyysphqO"
      }
    },
    {
      "cell_type": "code",
      "source": [
        "# Chart - 8 visualization code"
      ],
      "metadata": {
        "id": "TdPTWpAVphqO"
      },
      "execution_count": 162,
      "outputs": []
    },
    {
      "cell_type": "markdown",
      "source": [
        "##### 1. Why did you pick the specific chart?"
      ],
      "metadata": {
        "id": "jj7wYXLtphqO"
      }
    },
    {
      "cell_type": "markdown",
      "source": [
        "Answer Here."
      ],
      "metadata": {
        "id": "Ob8u6rCTphqO"
      }
    },
    {
      "cell_type": "markdown",
      "source": [
        "##### 2. What is/are the insight(s) found from the chart?"
      ],
      "metadata": {
        "id": "eZrbJ2SmphqO"
      }
    },
    {
      "cell_type": "markdown",
      "source": [
        "Answer Here"
      ],
      "metadata": {
        "id": "mZtgC_hjphqO"
      }
    },
    {
      "cell_type": "markdown",
      "source": [
        "##### 3. Will the gained insights help creating a positive business impact?\n",
        "Are there any insights that lead to negative growth? Justify with specific reason."
      ],
      "metadata": {
        "id": "rFu4xreNphqO"
      }
    },
    {
      "cell_type": "markdown",
      "source": [
        "Answer Here"
      ],
      "metadata": {
        "id": "ey_0qi68phqO"
      }
    },
    {
      "cell_type": "markdown",
      "source": [
        "#### Chart - 9"
      ],
      "metadata": {
        "id": "YJ55k-q6phqO"
      }
    },
    {
      "cell_type": "code",
      "source": [
        "# Chart - 9 visualization code"
      ],
      "metadata": {
        "id": "B2aS4O1ophqO"
      },
      "execution_count": 163,
      "outputs": []
    },
    {
      "cell_type": "markdown",
      "source": [
        "##### 1. Why did you pick the specific chart?"
      ],
      "metadata": {
        "id": "gCFgpxoyphqP"
      }
    },
    {
      "cell_type": "markdown",
      "source": [
        "Answer Here."
      ],
      "metadata": {
        "id": "TVxDimi2phqP"
      }
    },
    {
      "cell_type": "markdown",
      "source": [
        "##### 2. What is/are the insight(s) found from the chart?"
      ],
      "metadata": {
        "id": "OVtJsKN_phqQ"
      }
    },
    {
      "cell_type": "markdown",
      "source": [
        "Answer Here"
      ],
      "metadata": {
        "id": "ngGi97qjphqQ"
      }
    },
    {
      "cell_type": "markdown",
      "source": [
        "##### 3. Will the gained insights help creating a positive business impact?\n",
        "Are there any insights that lead to negative growth? Justify with specific reason."
      ],
      "metadata": {
        "id": "lssrdh5qphqQ"
      }
    },
    {
      "cell_type": "markdown",
      "source": [
        "Answer Here"
      ],
      "metadata": {
        "id": "tBpY5ekJphqQ"
      }
    },
    {
      "cell_type": "markdown",
      "source": [
        "#### Chart - 10"
      ],
      "metadata": {
        "id": "U2RJ9gkRphqQ"
      }
    },
    {
      "cell_type": "code",
      "source": [
        "# Chart - 10 visualization code"
      ],
      "metadata": {
        "id": "GM7a4YP4phqQ"
      },
      "execution_count": 164,
      "outputs": []
    },
    {
      "cell_type": "markdown",
      "source": [
        "##### 1. Why did you pick the specific chart?"
      ],
      "metadata": {
        "id": "1M8mcRywphqQ"
      }
    },
    {
      "cell_type": "markdown",
      "source": [
        "Answer Here."
      ],
      "metadata": {
        "id": "8agQvks0phqQ"
      }
    },
    {
      "cell_type": "markdown",
      "source": [
        "##### 2. What is/are the insight(s) found from the chart?"
      ],
      "metadata": {
        "id": "tgIPom80phqQ"
      }
    },
    {
      "cell_type": "markdown",
      "source": [
        "Answer Here"
      ],
      "metadata": {
        "id": "Qp13pnNzphqQ"
      }
    },
    {
      "cell_type": "markdown",
      "source": [
        "##### 3. Will the gained insights help creating a positive business impact?\n",
        "Are there any insights that lead to negative growth? Justify with specific reason."
      ],
      "metadata": {
        "id": "JMzcOPDDphqR"
      }
    },
    {
      "cell_type": "markdown",
      "source": [
        "Answer Here"
      ],
      "metadata": {
        "id": "R4Ka1PC2phqR"
      }
    },
    {
      "cell_type": "markdown",
      "source": [
        "#### Chart - 11"
      ],
      "metadata": {
        "id": "x-EpHcCOp1ci"
      }
    },
    {
      "cell_type": "code",
      "source": [
        "# Chart - 11 visualization code"
      ],
      "metadata": {
        "id": "mAQTIvtqp1cj"
      },
      "execution_count": 165,
      "outputs": []
    },
    {
      "cell_type": "markdown",
      "source": [
        "##### 1. Why did you pick the specific chart?"
      ],
      "metadata": {
        "id": "X_VqEhTip1ck"
      }
    },
    {
      "cell_type": "markdown",
      "source": [
        "Answer Here."
      ],
      "metadata": {
        "id": "-vsMzt_np1ck"
      }
    },
    {
      "cell_type": "markdown",
      "source": [
        "##### 2. What is/are the insight(s) found from the chart?"
      ],
      "metadata": {
        "id": "8zGJKyg5p1ck"
      }
    },
    {
      "cell_type": "markdown",
      "source": [
        "Answer Here"
      ],
      "metadata": {
        "id": "ZYdMsrqVp1ck"
      }
    },
    {
      "cell_type": "markdown",
      "source": [
        "##### 3. Will the gained insights help creating a positive business impact?\n",
        "Are there any insights that lead to negative growth? Justify with specific reason."
      ],
      "metadata": {
        "id": "PVzmfK_Ep1ck"
      }
    },
    {
      "cell_type": "markdown",
      "source": [
        "Answer Here"
      ],
      "metadata": {
        "id": "druuKYZpp1ck"
      }
    },
    {
      "cell_type": "markdown",
      "source": [
        "#### Chart - 12"
      ],
      "metadata": {
        "id": "n3dbpmDWp1ck"
      }
    },
    {
      "cell_type": "code",
      "source": [
        "# Chart - 12 visualization code"
      ],
      "metadata": {
        "id": "bwevp1tKp1ck"
      },
      "execution_count": 166,
      "outputs": []
    },
    {
      "cell_type": "markdown",
      "source": [
        "##### 1. Why did you pick the specific chart?"
      ],
      "metadata": {
        "id": "ylSl6qgtp1ck"
      }
    },
    {
      "cell_type": "markdown",
      "source": [
        "Answer Here."
      ],
      "metadata": {
        "id": "m2xqNkiQp1ck"
      }
    },
    {
      "cell_type": "markdown",
      "source": [
        "##### 2. What is/are the insight(s) found from the chart?"
      ],
      "metadata": {
        "id": "ZWILFDl5p1ck"
      }
    },
    {
      "cell_type": "markdown",
      "source": [
        "Answer Here"
      ],
      "metadata": {
        "id": "x-lUsV2mp1ck"
      }
    },
    {
      "cell_type": "markdown",
      "source": [
        "##### 3. Will the gained insights help creating a positive business impact?\n",
        "Are there any insights that lead to negative growth? Justify with specific reason."
      ],
      "metadata": {
        "id": "M7G43BXep1ck"
      }
    },
    {
      "cell_type": "markdown",
      "source": [
        "Answer Here"
      ],
      "metadata": {
        "id": "5wwDJXsLp1cl"
      }
    },
    {
      "cell_type": "markdown",
      "source": [
        "#### Chart - 13"
      ],
      "metadata": {
        "id": "Ag9LCva-p1cl"
      }
    },
    {
      "cell_type": "code",
      "source": [
        "# Chart - 13 visualization code"
      ],
      "metadata": {
        "id": "EUfxeq9-p1cl"
      },
      "execution_count": 167,
      "outputs": []
    },
    {
      "cell_type": "markdown",
      "source": [
        "##### 1. Why did you pick the specific chart?"
      ],
      "metadata": {
        "id": "E6MkPsBcp1cl"
      }
    },
    {
      "cell_type": "markdown",
      "source": [
        "Answer Here."
      ],
      "metadata": {
        "id": "V22bRsFWp1cl"
      }
    },
    {
      "cell_type": "markdown",
      "source": [
        "##### 2. What is/are the insight(s) found from the chart?"
      ],
      "metadata": {
        "id": "2cELzS2fp1cl"
      }
    },
    {
      "cell_type": "markdown",
      "source": [
        "Answer Here"
      ],
      "metadata": {
        "id": "ozQPc2_Ip1cl"
      }
    },
    {
      "cell_type": "markdown",
      "source": [
        "##### 3. Will the gained insights help creating a positive business impact?\n",
        "Are there any insights that lead to negative growth? Justify with specific reason."
      ],
      "metadata": {
        "id": "3MPXvC8up1cl"
      }
    },
    {
      "cell_type": "markdown",
      "source": [
        "Answer Here"
      ],
      "metadata": {
        "id": "GL8l1tdLp1cl"
      }
    },
    {
      "cell_type": "markdown",
      "source": [
        "#### Chart - 14 - Correlation Heatmap"
      ],
      "metadata": {
        "id": "NC_X3p0fY2L0"
      }
    },
    {
      "cell_type": "code",
      "source": [
        "# Correlation Heatmap visualization code"
      ],
      "metadata": {
        "id": "xyC9zolEZNRQ"
      },
      "execution_count": 168,
      "outputs": []
    },
    {
      "cell_type": "markdown",
      "source": [
        "##### 1. Why did you pick the specific chart?"
      ],
      "metadata": {
        "id": "UV0SzAkaZNRQ"
      }
    },
    {
      "cell_type": "markdown",
      "source": [
        "Answer Here."
      ],
      "metadata": {
        "id": "DVPuT8LYZNRQ"
      }
    },
    {
      "cell_type": "markdown",
      "source": [
        "##### 2. What is/are the insight(s) found from the chart?"
      ],
      "metadata": {
        "id": "YPEH6qLeZNRQ"
      }
    },
    {
      "cell_type": "markdown",
      "source": [
        "Answer Here"
      ],
      "metadata": {
        "id": "bfSqtnDqZNRR"
      }
    },
    {
      "cell_type": "markdown",
      "source": [
        "#### Chart - 15 - Pair Plot"
      ],
      "metadata": {
        "id": "q29F0dvdveiT"
      }
    },
    {
      "cell_type": "code",
      "source": [
        "# Pair Plot visualization code"
      ],
      "metadata": {
        "id": "o58-TEIhveiU"
      },
      "execution_count": 169,
      "outputs": []
    },
    {
      "cell_type": "markdown",
      "source": [
        "##### 1. Why did you pick the specific chart?"
      ],
      "metadata": {
        "id": "EXh0U9oCveiU"
      }
    },
    {
      "cell_type": "markdown",
      "source": [
        "Answer Here."
      ],
      "metadata": {
        "id": "eMmPjTByveiU"
      }
    },
    {
      "cell_type": "markdown",
      "source": [
        "##### 2. What is/are the insight(s) found from the chart?"
      ],
      "metadata": {
        "id": "22aHeOlLveiV"
      }
    },
    {
      "cell_type": "markdown",
      "source": [
        "Answer Here"
      ],
      "metadata": {
        "id": "uPQ8RGwHveiV"
      }
    },
    {
      "cell_type": "markdown",
      "source": [
        "## ***5. Hypothesis Testing***"
      ],
      "metadata": {
        "id": "g-ATYxFrGrvw"
      }
    },
    {
      "cell_type": "markdown",
      "source": [
        "### Based on your chart experiments, define three hypothetical statements from the dataset. In the next three questions, perform hypothesis testing to obtain final conclusion about the statements through your code and statistical testing."
      ],
      "metadata": {
        "id": "Yfr_Vlr8HBkt"
      }
    },
    {
      "cell_type": "markdown",
      "source": [
        "Answer Here."
      ],
      "metadata": {
        "id": "-7MS06SUHkB-"
      }
    },
    {
      "cell_type": "markdown",
      "source": [
        "### Hypothetical Statement - 1"
      ],
      "metadata": {
        "id": "8yEUt7NnHlrM"
      }
    },
    {
      "cell_type": "markdown",
      "source": [
        "#### 1. State Your research hypothesis as a null hypothesis and alternate hypothesis."
      ],
      "metadata": {
        "id": "tEA2Xm5dHt1r"
      }
    },
    {
      "cell_type": "markdown",
      "source": [
        "Answer Here."
      ],
      "metadata": {
        "id": "HI9ZP0laH0D-"
      }
    },
    {
      "cell_type": "markdown",
      "source": [
        "#### 2. Perform an appropriate statistical test."
      ],
      "metadata": {
        "id": "I79__PHVH19G"
      }
    },
    {
      "cell_type": "code",
      "source": [
        "# Perform Statistical Test to obtain P-Value"
      ],
      "metadata": {
        "id": "oZrfquKtyian"
      },
      "execution_count": 170,
      "outputs": []
    },
    {
      "cell_type": "markdown",
      "source": [
        "##### Which statistical test have you done to obtain P-Value?"
      ],
      "metadata": {
        "id": "Ou-I18pAyIpj"
      }
    },
    {
      "cell_type": "markdown",
      "source": [
        "Answer Here."
      ],
      "metadata": {
        "id": "s2U0kk00ygSB"
      }
    },
    {
      "cell_type": "markdown",
      "source": [
        "##### Why did you choose the specific statistical test?"
      ],
      "metadata": {
        "id": "fF3858GYyt-u"
      }
    },
    {
      "cell_type": "markdown",
      "source": [
        "Answer Here."
      ],
      "metadata": {
        "id": "HO4K0gP5y3B4"
      }
    },
    {
      "cell_type": "markdown",
      "source": [
        "### Hypothetical Statement - 2"
      ],
      "metadata": {
        "id": "4_0_7-oCpUZd"
      }
    },
    {
      "cell_type": "markdown",
      "source": [
        "#### 1. State Your research hypothesis as a null hypothesis and alternate hypothesis."
      ],
      "metadata": {
        "id": "hwyV_J3ipUZe"
      }
    },
    {
      "cell_type": "markdown",
      "source": [
        "Answer Here."
      ],
      "metadata": {
        "id": "FnpLGJ-4pUZe"
      }
    },
    {
      "cell_type": "markdown",
      "source": [
        "#### 2. Perform an appropriate statistical test."
      ],
      "metadata": {
        "id": "3yB-zSqbpUZe"
      }
    },
    {
      "cell_type": "code",
      "source": [
        "# Perform Statistical Test to obtain P-Value"
      ],
      "metadata": {
        "id": "sWxdNTXNpUZe"
      },
      "execution_count": 171,
      "outputs": []
    },
    {
      "cell_type": "markdown",
      "source": [
        "##### Which statistical test have you done to obtain P-Value?"
      ],
      "metadata": {
        "id": "dEUvejAfpUZe"
      }
    },
    {
      "cell_type": "markdown",
      "source": [
        "Answer Here."
      ],
      "metadata": {
        "id": "oLDrPz7HpUZf"
      }
    },
    {
      "cell_type": "markdown",
      "source": [
        "##### Why did you choose the specific statistical test?"
      ],
      "metadata": {
        "id": "Fd15vwWVpUZf"
      }
    },
    {
      "cell_type": "markdown",
      "source": [
        "Answer Here."
      ],
      "metadata": {
        "id": "4xOGYyiBpUZf"
      }
    },
    {
      "cell_type": "markdown",
      "source": [
        "### Hypothetical Statement - 3"
      ],
      "metadata": {
        "id": "bn_IUdTipZyH"
      }
    },
    {
      "cell_type": "markdown",
      "source": [
        "#### 1. State Your research hypothesis as a null hypothesis and alternate hypothesis."
      ],
      "metadata": {
        "id": "49K5P_iCpZyH"
      }
    },
    {
      "cell_type": "markdown",
      "source": [
        "Answer Here."
      ],
      "metadata": {
        "id": "7gWI5rT9pZyH"
      }
    },
    {
      "cell_type": "markdown",
      "source": [
        "#### 2. Perform an appropriate statistical test."
      ],
      "metadata": {
        "id": "Nff-vKELpZyI"
      }
    },
    {
      "cell_type": "code",
      "source": [
        "# Perform Statistical Test to obtain P-Value"
      ],
      "metadata": {
        "id": "s6AnJQjtpZyI"
      },
      "execution_count": 172,
      "outputs": []
    },
    {
      "cell_type": "markdown",
      "source": [
        "##### Which statistical test have you done to obtain P-Value?"
      ],
      "metadata": {
        "id": "kLW572S8pZyI"
      }
    },
    {
      "cell_type": "markdown",
      "source": [
        "Answer Here."
      ],
      "metadata": {
        "id": "ytWJ8v15pZyI"
      }
    },
    {
      "cell_type": "markdown",
      "source": [
        "##### Why did you choose the specific statistical test?"
      ],
      "metadata": {
        "id": "dWbDXHzopZyI"
      }
    },
    {
      "cell_type": "markdown",
      "source": [
        "Answer Here."
      ],
      "metadata": {
        "id": "M99G98V6pZyI"
      }
    },
    {
      "cell_type": "markdown",
      "source": [
        "## ***6. Feature Engineering & Data Pre-processing***"
      ],
      "metadata": {
        "id": "yLjJCtPM0KBk"
      }
    },
    {
      "cell_type": "markdown",
      "source": [
        "### 1. Handling Missing Values"
      ],
      "metadata": {
        "id": "xiyOF9F70UgQ"
      }
    },
    {
      "cell_type": "code",
      "source": [
        "# Handling Missing Values & Missing Value Imputation"
      ],
      "metadata": {
        "id": "iRsAHk1K0fpS"
      },
      "execution_count": 173,
      "outputs": []
    },
    {
      "cell_type": "markdown",
      "source": [
        "#### What all missing value imputation techniques have you used and why did you use those techniques?"
      ],
      "metadata": {
        "id": "7wuGOrhz0itI"
      }
    },
    {
      "cell_type": "markdown",
      "source": [
        "Answer Here."
      ],
      "metadata": {
        "id": "1ixusLtI0pqI"
      }
    },
    {
      "cell_type": "markdown",
      "source": [
        "### 2. Handling Outliers"
      ],
      "metadata": {
        "id": "id1riN9m0vUs"
      }
    },
    {
      "cell_type": "code",
      "source": [
        "# Handling Outliers & Outlier treatments"
      ],
      "metadata": {
        "id": "M6w2CzZf04JK"
      },
      "execution_count": 174,
      "outputs": []
    },
    {
      "cell_type": "markdown",
      "source": [
        "##### What all outlier treatment techniques have you used and why did you use those techniques?"
      ],
      "metadata": {
        "id": "578E2V7j08f6"
      }
    },
    {
      "cell_type": "markdown",
      "source": [
        "Answer Here."
      ],
      "metadata": {
        "id": "uGZz5OrT1HH-"
      }
    },
    {
      "cell_type": "markdown",
      "source": [
        "### 3. Categorical Encoding"
      ],
      "metadata": {
        "id": "89xtkJwZ18nB"
      }
    },
    {
      "cell_type": "code",
      "source": [
        "# Encode your categorical columns"
      ],
      "metadata": {
        "id": "21JmIYMG2hEo"
      },
      "execution_count": 175,
      "outputs": []
    },
    {
      "cell_type": "markdown",
      "source": [
        "#### What all categorical encoding techniques have you used & why did you use those techniques?"
      ],
      "metadata": {
        "id": "67NQN5KX2AMe"
      }
    },
    {
      "cell_type": "markdown",
      "source": [
        "Answer Here."
      ],
      "metadata": {
        "id": "UDaue5h32n_G"
      }
    },
    {
      "cell_type": "markdown",
      "source": [
        "### 4. Textual Data Preprocessing\n",
        "(It's mandatory for textual dataset i.e., NLP, Sentiment Analysis, Text Clustering etc.)"
      ],
      "metadata": {
        "id": "Iwf50b-R2tYG"
      }
    },
    {
      "cell_type": "markdown",
      "source": [
        "#### 1. Expand Contraction"
      ],
      "metadata": {
        "id": "GMQiZwjn3iu7"
      }
    },
    {
      "cell_type": "code",
      "source": [
        "# Expand Contraction"
      ],
      "metadata": {
        "id": "PTouz10C3oNN"
      },
      "execution_count": 176,
      "outputs": []
    },
    {
      "cell_type": "markdown",
      "source": [
        "#### 2. Lower Casing"
      ],
      "metadata": {
        "id": "WVIkgGqN3qsr"
      }
    },
    {
      "cell_type": "code",
      "source": [
        "# Lower Casing"
      ],
      "metadata": {
        "id": "88JnJ1jN3w7j"
      },
      "execution_count": 177,
      "outputs": []
    },
    {
      "cell_type": "markdown",
      "source": [
        "#### 3. Removing Punctuations"
      ],
      "metadata": {
        "id": "XkPnILGE3zoT"
      }
    },
    {
      "cell_type": "code",
      "source": [
        "# Remove Punctuations"
      ],
      "metadata": {
        "id": "vqbBqNaA33c0"
      },
      "execution_count": 178,
      "outputs": []
    },
    {
      "cell_type": "markdown",
      "source": [
        "#### 4. Removing URLs & Removing words and digits contain digits."
      ],
      "metadata": {
        "id": "Hlsf0x5436Go"
      }
    },
    {
      "cell_type": "code",
      "source": [
        "# Remove URLs & Remove words and digits contain digits"
      ],
      "metadata": {
        "id": "2sxKgKxu4Ip3"
      },
      "execution_count": 179,
      "outputs": []
    },
    {
      "cell_type": "markdown",
      "source": [
        "#### 5. Removing Stopwords & Removing White spaces"
      ],
      "metadata": {
        "id": "mT9DMSJo4nBL"
      }
    },
    {
      "cell_type": "code",
      "source": [
        "# Remove Stopwords"
      ],
      "metadata": {
        "id": "T2LSJh154s8W"
      },
      "execution_count": 180,
      "outputs": []
    },
    {
      "cell_type": "code",
      "source": [
        "# Remove White spaces"
      ],
      "metadata": {
        "id": "EgLJGffy4vm0"
      },
      "execution_count": 181,
      "outputs": []
    },
    {
      "cell_type": "markdown",
      "source": [
        "#### 6. Rephrase Text"
      ],
      "metadata": {
        "id": "c49ITxTc407N"
      }
    },
    {
      "cell_type": "code",
      "source": [
        "# Rephrase Text"
      ],
      "metadata": {
        "id": "foqY80Qu48N2"
      },
      "execution_count": 182,
      "outputs": []
    },
    {
      "cell_type": "markdown",
      "source": [
        "#### 7. Tokenization"
      ],
      "metadata": {
        "id": "OeJFEK0N496M"
      }
    },
    {
      "cell_type": "code",
      "source": [
        "# Tokenization"
      ],
      "metadata": {
        "id": "ijx1rUOS5CUU"
      },
      "execution_count": 183,
      "outputs": []
    },
    {
      "cell_type": "markdown",
      "source": [
        "#### 8. Text Normalization"
      ],
      "metadata": {
        "id": "9ExmJH0g5HBk"
      }
    },
    {
      "cell_type": "code",
      "source": [
        "# Normalizing Text (i.e., Stemming, Lemmatization etc.)"
      ],
      "metadata": {
        "id": "AIJ1a-Zc5PY8"
      },
      "execution_count": 184,
      "outputs": []
    },
    {
      "cell_type": "markdown",
      "source": [
        "##### Which text normalization technique have you used and why?"
      ],
      "metadata": {
        "id": "cJNqERVU536h"
      }
    },
    {
      "cell_type": "markdown",
      "source": [
        "Answer Here."
      ],
      "metadata": {
        "id": "Z9jKVxE06BC1"
      }
    },
    {
      "cell_type": "markdown",
      "source": [
        "#### 9. Part of speech tagging"
      ],
      "metadata": {
        "id": "k5UmGsbsOxih"
      }
    },
    {
      "cell_type": "code",
      "source": [
        "# POS Taging"
      ],
      "metadata": {
        "id": "btT3ZJBAO6Ik"
      },
      "execution_count": 185,
      "outputs": []
    },
    {
      "cell_type": "markdown",
      "source": [
        "#### 10. Text Vectorization"
      ],
      "metadata": {
        "id": "T0VqWOYE6DLQ"
      }
    },
    {
      "cell_type": "code",
      "source": [
        "# Vectorizing Text"
      ],
      "metadata": {
        "id": "yBRtdhth6JDE"
      },
      "execution_count": 186,
      "outputs": []
    },
    {
      "cell_type": "markdown",
      "source": [
        "##### Which text vectorization technique have you used and why?"
      ],
      "metadata": {
        "id": "qBMux9mC6MCf"
      }
    },
    {
      "cell_type": "markdown",
      "source": [
        "Answer Here."
      ],
      "metadata": {
        "id": "su2EnbCh6UKQ"
      }
    },
    {
      "cell_type": "markdown",
      "source": [
        "### 4. Feature Manipulation & Selection"
      ],
      "metadata": {
        "id": "-oLEiFgy-5Pf"
      }
    },
    {
      "cell_type": "markdown",
      "source": [
        "#### 1. Feature Manipulation"
      ],
      "metadata": {
        "id": "C74aWNz2AliB"
      }
    },
    {
      "cell_type": "code",
      "source": [
        "# Manipulate Features to minimize feature correlation and create new features"
      ],
      "metadata": {
        "id": "h1qC4yhBApWC"
      },
      "execution_count": 187,
      "outputs": []
    },
    {
      "cell_type": "markdown",
      "source": [
        "#### 2. Feature Selection"
      ],
      "metadata": {
        "id": "2DejudWSA-a0"
      }
    },
    {
      "cell_type": "code",
      "source": [
        "# Select your features wisely to avoid overfitting"
      ],
      "metadata": {
        "id": "YLhe8UmaBCEE"
      },
      "execution_count": 188,
      "outputs": []
    },
    {
      "cell_type": "markdown",
      "source": [
        "##### What all feature selection methods have you used  and why?"
      ],
      "metadata": {
        "id": "pEMng2IbBLp7"
      }
    },
    {
      "cell_type": "markdown",
      "source": [
        "Answer Here."
      ],
      "metadata": {
        "id": "rb2Lh6Z8BgGs"
      }
    },
    {
      "cell_type": "markdown",
      "source": [
        "##### Which all features you found important and why?"
      ],
      "metadata": {
        "id": "rAdphbQ9Bhjc"
      }
    },
    {
      "cell_type": "markdown",
      "source": [
        "Answer Here."
      ],
      "metadata": {
        "id": "fGgaEstsBnaf"
      }
    },
    {
      "cell_type": "markdown",
      "source": [
        "### 5. Data Transformation"
      ],
      "metadata": {
        "id": "TNVZ9zx19K6k"
      }
    },
    {
      "cell_type": "markdown",
      "source": [
        "#### Do you think that your data needs to be transformed? If yes, which transformation have you used. Explain Why?"
      ],
      "metadata": {
        "id": "nqoHp30x9hH9"
      }
    },
    {
      "cell_type": "code",
      "source": [
        "# Transform Your data"
      ],
      "metadata": {
        "id": "I6quWQ1T9rtH"
      },
      "execution_count": 189,
      "outputs": []
    },
    {
      "cell_type": "markdown",
      "source": [
        "### 6. Data Scaling"
      ],
      "metadata": {
        "id": "rMDnDkt2B6du"
      }
    },
    {
      "cell_type": "code",
      "source": [
        "# Scaling your data"
      ],
      "metadata": {
        "id": "dL9LWpySC6x_"
      },
      "execution_count": 190,
      "outputs": []
    },
    {
      "cell_type": "markdown",
      "source": [
        "##### Which method have you used to scale you data and why?"
      ],
      "metadata": {
        "id": "yiiVWRdJDDil"
      }
    },
    {
      "cell_type": "markdown",
      "source": [
        "### 7. Dimesionality Reduction"
      ],
      "metadata": {
        "id": "1UUpS68QDMuG"
      }
    },
    {
      "cell_type": "markdown",
      "source": [
        "##### Do you think that dimensionality reduction is needed? Explain Why?"
      ],
      "metadata": {
        "id": "kexQrXU-DjzY"
      }
    },
    {
      "cell_type": "markdown",
      "source": [
        "Answer Here."
      ],
      "metadata": {
        "id": "GGRlBsSGDtTQ"
      }
    },
    {
      "cell_type": "code",
      "source": [
        "# DImensionality Reduction (If needed)"
      ],
      "metadata": {
        "id": "kQfvxBBHDvCa"
      },
      "execution_count": 191,
      "outputs": []
    },
    {
      "cell_type": "markdown",
      "source": [
        "##### Which dimensionality reduction technique have you used and why? (If dimensionality reduction done on dataset.)"
      ],
      "metadata": {
        "id": "T5CmagL3EC8N"
      }
    },
    {
      "cell_type": "markdown",
      "source": [
        "Answer Here."
      ],
      "metadata": {
        "id": "ZKr75IDuEM7t"
      }
    },
    {
      "cell_type": "markdown",
      "source": [
        "### 8. Data Splitting"
      ],
      "metadata": {
        "id": "BhH2vgX9EjGr"
      }
    },
    {
      "cell_type": "code",
      "source": [
        "# Split your data to train and test. Choose Splitting ratio wisely."
      ],
      "metadata": {
        "id": "0CTyd2UwEyNM"
      },
      "execution_count": 192,
      "outputs": []
    },
    {
      "cell_type": "markdown",
      "source": [
        "##### What data splitting ratio have you used and why?"
      ],
      "metadata": {
        "id": "qjKvONjwE8ra"
      }
    },
    {
      "cell_type": "markdown",
      "source": [
        "Answer Here."
      ],
      "metadata": {
        "id": "Y2lJ8cobFDb_"
      }
    },
    {
      "cell_type": "markdown",
      "source": [
        "### 9. Handling Imbalanced Dataset"
      ],
      "metadata": {
        "id": "P1XJ9OREExlT"
      }
    },
    {
      "cell_type": "markdown",
      "source": [
        "##### Do you think the dataset is imbalanced? Explain Why."
      ],
      "metadata": {
        "id": "VFOzZv6IFROw"
      }
    },
    {
      "cell_type": "markdown",
      "source": [
        "Answer Here."
      ],
      "metadata": {
        "id": "GeKDIv7pFgcC"
      }
    },
    {
      "cell_type": "code",
      "source": [
        "# Handling Imbalanced Dataset (If needed)"
      ],
      "metadata": {
        "id": "nQsRhhZLFiDs"
      },
      "execution_count": 193,
      "outputs": []
    },
    {
      "cell_type": "markdown",
      "source": [
        "##### What technique did you use to handle the imbalance dataset and why? (If needed to be balanced)"
      ],
      "metadata": {
        "id": "TIqpNgepFxVj"
      }
    },
    {
      "cell_type": "markdown",
      "source": [
        "Answer Here."
      ],
      "metadata": {
        "id": "qbet1HwdGDTz"
      }
    },
    {
      "cell_type": "markdown",
      "source": [
        "## ***7. ML Model Implementation***"
      ],
      "metadata": {
        "id": "VfCC591jGiD4"
      }
    },
    {
      "cell_type": "markdown",
      "source": [
        "### ML Model - 1"
      ],
      "metadata": {
        "id": "OB4l2ZhMeS1U"
      }
    },
    {
      "cell_type": "code",
      "source": [
        "# ML Model - 1 Implementation\n",
        "\n",
        "# Fit the Algorithm\n",
        "\n",
        "# Predict on the model"
      ],
      "metadata": {
        "id": "7ebyywQieS1U"
      },
      "execution_count": 194,
      "outputs": []
    },
    {
      "cell_type": "markdown",
      "source": [
        "#### 1. Explain the ML Model used and it's performance using Evaluation metric Score Chart."
      ],
      "metadata": {
        "id": "ArJBuiUVfxKd"
      }
    },
    {
      "cell_type": "code",
      "source": [
        "# Visualizing evaluation Metric Score chart"
      ],
      "metadata": {
        "id": "rqD5ZohzfxKe"
      },
      "execution_count": 195,
      "outputs": []
    },
    {
      "cell_type": "markdown",
      "source": [
        "#### 2. Cross- Validation & Hyperparameter Tuning"
      ],
      "metadata": {
        "id": "4qY1EAkEfxKe"
      }
    },
    {
      "cell_type": "code",
      "source": [
        "# ML Model - 1 Implementation with hyperparameter optimization techniques (i.e., GridSearch CV, RandomSearch CV, Bayesian Optimization etc.)\n",
        "\n",
        "# Fit the Algorithm\n",
        "\n",
        "# Predict on the model"
      ],
      "metadata": {
        "id": "Dy61ujd6fxKe"
      },
      "execution_count": 196,
      "outputs": []
    },
    {
      "cell_type": "markdown",
      "source": [
        "##### Which hyperparameter optimization technique have you used and why?"
      ],
      "metadata": {
        "id": "PiV4Ypx8fxKe"
      }
    },
    {
      "cell_type": "markdown",
      "source": [
        "Answer Here."
      ],
      "metadata": {
        "id": "negyGRa7fxKf"
      }
    },
    {
      "cell_type": "markdown",
      "source": [
        "##### Have you seen any improvement? Note down the improvement with updates Evaluation metric Score Chart."
      ],
      "metadata": {
        "id": "TfvqoZmBfxKf"
      }
    },
    {
      "cell_type": "markdown",
      "source": [
        "Answer Here."
      ],
      "metadata": {
        "id": "OaLui8CcfxKf"
      }
    },
    {
      "cell_type": "markdown",
      "source": [
        "### ML Model - 2"
      ],
      "metadata": {
        "id": "dJ2tPlVmpsJ0"
      }
    },
    {
      "cell_type": "markdown",
      "source": [
        "#### 1. Explain the ML Model used and it's performance using Evaluation metric Score Chart."
      ],
      "metadata": {
        "id": "JWYfwnehpsJ1"
      }
    },
    {
      "cell_type": "code",
      "source": [
        "# Visualizing evaluation Metric Score chart"
      ],
      "metadata": {
        "id": "yEl-hgQWpsJ1"
      },
      "execution_count": 197,
      "outputs": []
    },
    {
      "cell_type": "markdown",
      "source": [
        "#### 2. Cross- Validation & Hyperparameter Tuning"
      ],
      "metadata": {
        "id": "-jK_YjpMpsJ2"
      }
    },
    {
      "cell_type": "code",
      "source": [
        "# ML Model - 1 Implementation with hyperparameter optimization techniques (i.e., GridSearch CV, RandomSearch CV, Bayesian Optimization etc.)\n",
        "\n",
        "# Fit the Algorithm\n",
        "\n",
        "# Predict on the model"
      ],
      "metadata": {
        "id": "Dn0EOfS6psJ2"
      },
      "execution_count": 198,
      "outputs": []
    },
    {
      "cell_type": "markdown",
      "source": [
        "##### Which hyperparameter optimization technique have you used and why?"
      ],
      "metadata": {
        "id": "HAih1iBOpsJ2"
      }
    },
    {
      "cell_type": "markdown",
      "source": [
        "Answer Here."
      ],
      "metadata": {
        "id": "9kBgjYcdpsJ2"
      }
    },
    {
      "cell_type": "markdown",
      "source": [
        "##### Have you seen any improvement? Note down the improvement with updates Evaluation metric Score Chart."
      ],
      "metadata": {
        "id": "zVGeBEFhpsJ2"
      }
    },
    {
      "cell_type": "markdown",
      "source": [
        "Answer Here."
      ],
      "metadata": {
        "id": "74yRdG6UpsJ3"
      }
    },
    {
      "cell_type": "markdown",
      "source": [
        "#### 3. Explain each evaluation metric's indication towards business and the business impact pf the ML model used."
      ],
      "metadata": {
        "id": "bmKjuQ-FpsJ3"
      }
    },
    {
      "cell_type": "markdown",
      "source": [
        "Answer Here."
      ],
      "metadata": {
        "id": "BDKtOrBQpsJ3"
      }
    },
    {
      "cell_type": "markdown",
      "source": [
        "### ML Model - 3"
      ],
      "metadata": {
        "id": "Fze-IPXLpx6K"
      }
    },
    {
      "cell_type": "code",
      "source": [
        "# ML Model - 3 Implementation\n",
        "\n",
        "# Fit the Algorithm\n",
        "\n",
        "# Predict on the model"
      ],
      "metadata": {
        "id": "FFrSXAtrpx6M"
      },
      "execution_count": 199,
      "outputs": []
    },
    {
      "cell_type": "markdown",
      "source": [
        "#### 1. Explain the ML Model used and it's performance using Evaluation metric Score Chart."
      ],
      "metadata": {
        "id": "7AN1z2sKpx6M"
      }
    },
    {
      "cell_type": "code",
      "source": [
        "# Visualizing evaluation Metric Score chart"
      ],
      "metadata": {
        "id": "xIY4lxxGpx6M"
      },
      "execution_count": 200,
      "outputs": []
    },
    {
      "cell_type": "markdown",
      "source": [
        "#### 2. Cross- Validation & Hyperparameter Tuning"
      ],
      "metadata": {
        "id": "9PIHJqyupx6M"
      }
    },
    {
      "cell_type": "code",
      "source": [
        "# ML Model - 3 Implementation with hyperparameter optimization techniques (i.e., GridSearch CV, RandomSearch CV, Bayesian Optimization etc.)\n",
        "\n",
        "# Fit the Algorithm\n",
        "\n",
        "# Predict on the model"
      ],
      "metadata": {
        "id": "eSVXuaSKpx6M"
      },
      "execution_count": 201,
      "outputs": []
    },
    {
      "cell_type": "markdown",
      "source": [
        "##### Which hyperparameter optimization technique have you used and why?"
      ],
      "metadata": {
        "id": "_-qAgymDpx6N"
      }
    },
    {
      "cell_type": "markdown",
      "source": [
        "Answer Here."
      ],
      "metadata": {
        "id": "lQMffxkwpx6N"
      }
    },
    {
      "cell_type": "markdown",
      "source": [
        "##### Have you seen any improvement? Note down the improvement with updates Evaluation metric Score Chart."
      ],
      "metadata": {
        "id": "Z-hykwinpx6N"
      }
    },
    {
      "cell_type": "markdown",
      "source": [
        "Answer Here."
      ],
      "metadata": {
        "id": "MzVzZC6opx6N"
      }
    },
    {
      "cell_type": "markdown",
      "source": [
        "### 1. Which Evaluation metrics did you consider for a positive business impact and why?"
      ],
      "metadata": {
        "id": "h_CCil-SKHpo"
      }
    },
    {
      "cell_type": "markdown",
      "source": [
        "Answer Here."
      ],
      "metadata": {
        "id": "jHVz9hHDKFms"
      }
    },
    {
      "cell_type": "markdown",
      "source": [
        "### 2. Which ML model did you choose from the above created models as your final prediction model and why?"
      ],
      "metadata": {
        "id": "cBFFvTBNJzUa"
      }
    },
    {
      "cell_type": "markdown",
      "source": [
        "Answer Here."
      ],
      "metadata": {
        "id": "6ksF5Q1LKTVm"
      }
    },
    {
      "cell_type": "markdown",
      "source": [
        "### 3. Explain the model which you have used and the feature importance using any model explainability tool?"
      ],
      "metadata": {
        "id": "HvGl1hHyA_VK"
      }
    },
    {
      "cell_type": "markdown",
      "source": [
        "Answer Here."
      ],
      "metadata": {
        "id": "YnvVTiIxBL-C"
      }
    },
    {
      "cell_type": "markdown",
      "source": [
        "## ***8.*** ***Future Work (Optional)***"
      ],
      "metadata": {
        "id": "EyNgTHvd2WFk"
      }
    },
    {
      "cell_type": "markdown",
      "source": [
        "### 1. Save the best performing ml model in a pickle file or joblib file format for deployment process.\n"
      ],
      "metadata": {
        "id": "KH5McJBi2d8v"
      }
    },
    {
      "cell_type": "code",
      "source": [
        "# Save the File"
      ],
      "metadata": {
        "id": "bQIANRl32f4J"
      },
      "execution_count": 202,
      "outputs": []
    },
    {
      "cell_type": "markdown",
      "source": [
        "### 2. Again Load the saved model file and try to predict unseen data for a sanity check.\n"
      ],
      "metadata": {
        "id": "iW_Lq9qf2h6X"
      }
    },
    {
      "cell_type": "code",
      "source": [
        "# Load the File and predict unseen data."
      ],
      "metadata": {
        "id": "oEXk9ydD2nVC"
      },
      "execution_count": 203,
      "outputs": []
    },
    {
      "cell_type": "markdown",
      "source": [
        "### ***Congrats! Your model is successfully created and ready for deployment on a live server for a real user interaction !!!***"
      ],
      "metadata": {
        "id": "-Kee-DAl2viO"
      }
    },
    {
      "cell_type": "markdown",
      "source": [
        "# **Conclusion**"
      ],
      "metadata": {
        "id": "gCX9965dhzqZ"
      }
    },
    {
      "cell_type": "markdown",
      "source": [
        "Write the conclusion here."
      ],
      "metadata": {
        "id": "Fjb1IsQkh3yE"
      }
    },
    {
      "cell_type": "markdown",
      "source": [
        "### ***Hurrah! You have successfully completed your Machine Learning Capstone Project !!!***"
      ],
      "metadata": {
        "id": "gIfDvo9L0UH2"
      }
    }
  ]
}